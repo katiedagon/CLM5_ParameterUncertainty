{
 "cells": [
  {
   "cell_type": "code",
   "execution_count": 8,
   "metadata": {},
   "outputs": [
    {
     "name": "stdout",
     "output_type": "stream",
     "text": [
      "Requirement already satisfied: pymc3 in /gpfs/fs1/work/kdagon/ncar_pylib_clone_20190118/lib/python3.6/site-packages (3.6)\n",
      "Requirement already satisfied: six>=1.10.0 in /gpfs/fs1/work/kdagon/ncar_pylib_clone_20190118/lib/python3.6/site-packages (from pymc3) (1.12.0)\n",
      "Requirement already satisfied: numpy>=1.13.0 in /gpfs/fs1/work/kdagon/ncar_pylib_clone_20190118/lib/python3.6/site-packages (from pymc3) (1.16.2)\n",
      "Requirement already satisfied: theano>=1.0.0 in /gpfs/fs1/work/kdagon/ncar_pylib_clone_20190118/lib/python3.6/site-packages (from pymc3) (1.0.4)\n",
      "Requirement already satisfied: tqdm>=4.8.4 in /gpfs/fs1/work/kdagon/ncar_pylib_clone_20190118/lib/python3.6/site-packages (from pymc3) (4.31.1)\n",
      "Requirement already satisfied: patsy>=0.4.0 in /gpfs/fs1/work/kdagon/ncar_pylib_clone_20190118/lib/python3.6/site-packages (from pymc3) (0.5.1)\n",
      "Requirement already satisfied: pandas>=0.18.0 in /gpfs/fs1/work/kdagon/ncar_pylib_clone_20190118/lib/python3.6/site-packages (from pymc3) (0.24.2)\n",
      "Requirement already satisfied: joblib<0.13.0 in /gpfs/fs1/work/kdagon/ncar_pylib_clone_20190118/lib/python3.6/site-packages (from pymc3) (0.12.5)\n",
      "Requirement already satisfied: h5py>=2.7.0 in /gpfs/fs1/work/kdagon/ncar_pylib_clone_20190118/lib/python3.6/site-packages (from pymc3) (2.9.0)\n",
      "Requirement already satisfied: scipy>=0.18.1 in /gpfs/fs1/work/kdagon/ncar_pylib_clone_20190118/lib/python3.6/site-packages (from pymc3) (1.2.1)\n",
      "Requirement already satisfied: pytz>=2011k in /gpfs/fs1/work/kdagon/ncar_pylib_clone_20190118/lib/python3.6/site-packages (from pandas>=0.18.0->pymc3) (2018.9)\n",
      "Requirement already satisfied: python-dateutil>=2.5.0 in /gpfs/fs1/work/kdagon/ncar_pylib_clone_20190118/lib/python3.6/site-packages (from pandas>=0.18.0->pymc3) (2.8.0)\n",
      "\u001b[33mYou are using pip version 18.1, however version 19.0.3 is available.\n",
      "You should consider upgrading via the 'pip install --upgrade pip' command.\u001b[0m\n"
     ]
    }
   ],
   "source": [
    "import sys\n",
    "!{sys.executable} -m pip install pymc3"
   ]
  },
  {
   "cell_type": "code",
   "execution_count": 9,
   "metadata": {},
   "outputs": [
    {
     "name": "stdout",
     "output_type": "stream",
     "text": [
      "/ncar/usr/jupyterhub/20190118/bin/python\n",
      "python is /ncar/usr/jupyterhub/20190118/bin/python\n"
     ]
    }
   ],
   "source": [
    "# If I'm able to access packages install on my ncar_pylib_clone, why does python point to the jupyterhub directory?\n",
    "# What is the origin of the ctsm kernel? It must have been installed while I was in the NPL clone environment.\n",
    "!which python\n",
    "!type python"
   ]
  },
  {
   "cell_type": "code",
   "execution_count": 25,
   "metadata": {},
   "outputs": [
    {
     "name": "stdout",
     "output_type": "stream",
     "text": [
      "No modules loaded\u001b[m\n",
      "\u001b[K\u001b[?1l\u001b>/bin/bash\n",
      "/opt/pbs/bin:/ncar/usr/jupyterhub/20190118/bin:/glade/u/apps/ch/opt/lmod/7.2.1/bin:/usr/sbin:/usr/bin:/sbin:/bin\n",
      "/usr/bin/g++\n",
      "/usr/bin/c++\n"
     ]
    }
   ],
   "source": [
    "# The notebook bash environment is different than my default environment on cheyenne\n",
    "!module list\n",
    "!echo $SHELL\n",
    "!echo $PATH\n",
    "!which g++\n",
    "!which c++"
   ]
  },
  {
   "cell_type": "code",
   "execution_count": 2,
   "metadata": {},
   "outputs": [],
   "source": [
    "import numpy as np"
   ]
  },
  {
   "cell_type": "code",
   "execution_count": 3,
   "metadata": {},
   "outputs": [],
   "source": [
    "import matplotlib\n",
    "import matplotlib.pyplot as plt\n",
    "import matplotlib.cm as cm"
   ]
  },
  {
   "cell_type": "code",
   "execution_count": 11,
   "metadata": {},
   "outputs": [],
   "source": [
    "import corner"
   ]
  },
  {
   "cell_type": "code",
   "execution_count": 12,
   "metadata": {},
   "outputs": [
    {
     "name": "stdout",
     "output_type": "stream",
     "text": [
      "[[0.69375367 0.42105    0.91721816 0.77759723 0.21895175 0.93337673]\n",
      " [0.30580988 0.50947902 0.15489656 0.04253279 0.85599774 0.38098259]]\n"
     ]
    }
   ],
   "source": [
    "# Testing the use of a package installed on my ncar_pylib_clone\n",
    "# Somehow it finds these packages, I think because the kernel was set up from my clone environment\n",
    "from pyDOE import *\n",
    "lhd = lhs(6, samples=int(2))\n",
    "print(lhd)"
   ]
  },
  {
   "cell_type": "code",
   "execution_count": 18,
   "metadata": {},
   "outputs": [],
   "source": [
    "# Still having intermittent trouble with this import function\n",
    "import pymc3 as pymc"
   ]
  },
  {
   "cell_type": "code",
   "execution_count": 13,
   "metadata": {
    "collapsed": false
   },
   "outputs": [],
   "source": [
    "# Original order of loading modules\n",
    "#import pymc3\n",
    "#import numpy as np\n",
    "#import matplotlib\n",
    "#import matplotlib.pyplot as plt\n",
    "#import matplotlib.cm as cm\n",
    "#import corner\n",
    "#%matplotlib inline"
   ]
  },
  {
   "cell_type": "markdown",
   "metadata": {},
   "source": [
    "## Simple MCMC notebook for two-term power law \n",
    "$$ Y = a_1 X**b_1 + a_2 X**b_2 $$\n",
    "Find a1, b1, a2, b2 given some uncertain obs of Y over some values of X"
   ]
  },
  {
   "cell_type": "code",
   "execution_count": 14,
   "metadata": {
    "collapsed": false
   },
   "outputs": [],
   "source": [
    "#..Set up simple power law model function\n",
    "def two_term_one_dim(a1,a2,b1,b2,xvec):\n",
    "    pvec = a1*xvec**b1 + a2*xvec**b2\n",
    "    return pvec"
   ]
  },
  {
   "cell_type": "code",
   "execution_count": 15,
   "metadata": {
    "collapsed": false
   },
   "outputs": [],
   "source": [
    "#..Test out this function for from values of xvec\n",
    "xvec = np.linspace(0.1,100.,500)\n",
    "pvec = two_term_one_dim(20.,1.,0.1,0.9,xvec)\n"
   ]
  },
  {
   "cell_type": "code",
   "execution_count": 16,
   "metadata": {
    "collapsed": false
   },
   "outputs": [
    {
     "data": {
      "text/plain": [
       "[<matplotlib.lines.Line2D at 0x2aaaf46fe048>]"
      ]
     },
     "execution_count": 16,
     "metadata": {},
     "output_type": "execute_result"
    },
    {
     "data": {
      "image/png": "[encoded data removed]",
      "text/plain": [
       "<Figure size 432x288 with 1 Axes>"
      ]
     },
     "metadata": {
      "needs_background": "light"
     },
     "output_type": "display_data"
    }
   ],
   "source": [
    "plt.plot(xvec,pvec)"
   ]
  },
  {
   "cell_type": "code",
   "execution_count": 19,
   "metadata": {
    "collapsed": false
   },
   "outputs": [
    {
     "ename": "TypeError",
     "evalue": "No model on context stack, which is needed to instantiate distributions. Add variable inside a 'with model:' block, or use the '.dist' syntax for a standalone distribution.",
     "output_type": "error",
     "traceback": [
      "\u001b[0;31m---------------------------------------------------------------------------\u001b[0m",
      "\u001b[0;31mIndexError\u001b[0m                                Traceback (most recent call last)",
      "\u001b[0;32m/gpfs/fs1/work/kdagon/ncar_pylib_clone_20190118/lib/python3.6/site-packages/pymc3/model.py\u001b[0m in \u001b[0;36mget_context\u001b[0;34m(cls)\u001b[0m\n\u001b[1;32m    180\u001b[0m         \u001b[0;32mtry\u001b[0m\u001b[0;34m:\u001b[0m\u001b[0;34m\u001b[0m\u001b[0;34m\u001b[0m\u001b[0m\n\u001b[0;32m--> 181\u001b[0;31m             \u001b[0;32mreturn\u001b[0m \u001b[0mcls\u001b[0m\u001b[0;34m.\u001b[0m\u001b[0mget_contexts\u001b[0m\u001b[0;34m(\u001b[0m\u001b[0;34m)\u001b[0m\u001b[0;34m[\u001b[0m\u001b[0;34m-\u001b[0m\u001b[0;36m1\u001b[0m\u001b[0;34m]\u001b[0m\u001b[0;34m\u001b[0m\u001b[0;34m\u001b[0m\u001b[0m\n\u001b[0m\u001b[1;32m    182\u001b[0m         \u001b[0;32mexcept\u001b[0m \u001b[0mIndexError\u001b[0m\u001b[0;34m:\u001b[0m\u001b[0;34m\u001b[0m\u001b[0;34m\u001b[0m\u001b[0m\n",
      "\u001b[0;31mIndexError\u001b[0m: list index out of range",
      "\nDuring handling of the above exception, another exception occurred:\n",
      "\u001b[0;31mTypeError\u001b[0m                                 Traceback (most recent call last)",
      "\u001b[0;32m/gpfs/fs1/work/kdagon/ncar_pylib_clone_20190118/lib/python3.6/site-packages/pymc3/distributions/distribution.py\u001b[0m in \u001b[0;36m__new__\u001b[0;34m(cls, name, *args, **kwargs)\u001b[0m\n\u001b[1;32m     28\u001b[0m         \u001b[0;32mtry\u001b[0m\u001b[0;34m:\u001b[0m\u001b[0;34m\u001b[0m\u001b[0;34m\u001b[0m\u001b[0m\n\u001b[0;32m---> 29\u001b[0;31m             \u001b[0mmodel\u001b[0m \u001b[0;34m=\u001b[0m \u001b[0mModel\u001b[0m\u001b[0;34m.\u001b[0m\u001b[0mget_context\u001b[0m\u001b[0;34m(\u001b[0m\u001b[0;34m)\u001b[0m\u001b[0;34m\u001b[0m\u001b[0;34m\u001b[0m\u001b[0m\n\u001b[0m\u001b[1;32m     30\u001b[0m         \u001b[0;32mexcept\u001b[0m \u001b[0mTypeError\u001b[0m\u001b[0;34m:\u001b[0m\u001b[0;34m\u001b[0m\u001b[0;34m\u001b[0m\u001b[0m\n",
      "\u001b[0;32m/gpfs/fs1/work/kdagon/ncar_pylib_clone_20190118/lib/python3.6/site-packages/pymc3/model.py\u001b[0m in \u001b[0;36mget_context\u001b[0;34m(cls)\u001b[0m\n\u001b[1;32m    182\u001b[0m         \u001b[0;32mexcept\u001b[0m \u001b[0mIndexError\u001b[0m\u001b[0;34m:\u001b[0m\u001b[0;34m\u001b[0m\u001b[0;34m\u001b[0m\u001b[0m\n\u001b[0;32m--> 183\u001b[0;31m             \u001b[0;32mraise\u001b[0m \u001b[0mTypeError\u001b[0m\u001b[0;34m(\u001b[0m\u001b[0;34m\"No context on context stack\"\u001b[0m\u001b[0;34m)\u001b[0m\u001b[0;34m\u001b[0m\u001b[0;34m\u001b[0m\u001b[0m\n\u001b[0m\u001b[1;32m    184\u001b[0m \u001b[0;34m\u001b[0m\u001b[0m\n",
      "\u001b[0;31mTypeError\u001b[0m: No context on context stack",
      "\nDuring handling of the above exception, another exception occurred:\n",
      "\u001b[0;31mTypeError\u001b[0m                                 Traceback (most recent call last)",
      "\u001b[0;32m<ipython-input-19-e3ac4f272b3c>\u001b[0m in \u001b[0;36m<module>\u001b[0;34m\u001b[0m\n\u001b[1;32m      6\u001b[0m \u001b[0;34m\u001b[0m\u001b[0m\n\u001b[1;32m      7\u001b[0m \u001b[0;31m#..Define variables and priors (bounded uniform, you can try Gaussian too)\u001b[0m\u001b[0;34m\u001b[0m\u001b[0;34m\u001b[0m\u001b[0;34m\u001b[0m\u001b[0m\n\u001b[0;32m----> 8\u001b[0;31m \u001b[0ma1\u001b[0m \u001b[0;34m=\u001b[0m \u001b[0mpymc\u001b[0m\u001b[0;34m.\u001b[0m\u001b[0mUniform\u001b[0m\u001b[0;34m(\u001b[0m\u001b[0;34m'a1'\u001b[0m\u001b[0;34m,\u001b[0m\u001b[0;36m15.\u001b[0m\u001b[0;34m,\u001b[0m\u001b[0;36m25.\u001b[0m\u001b[0;34m)\u001b[0m\u001b[0;34m\u001b[0m\u001b[0;34m\u001b[0m\u001b[0m\n\u001b[0m\u001b[1;32m      9\u001b[0m \u001b[0ma2\u001b[0m \u001b[0;34m=\u001b[0m \u001b[0mpymc\u001b[0m\u001b[0;34m.\u001b[0m\u001b[0mUniform\u001b[0m\u001b[0;34m(\u001b[0m\u001b[0;34m'a2'\u001b[0m\u001b[0;34m,\u001b[0m\u001b[0;36m0.7\u001b[0m\u001b[0;34m,\u001b[0m\u001b[0;36m1.3\u001b[0m\u001b[0;34m)\u001b[0m\u001b[0;34m\u001b[0m\u001b[0;34m\u001b[0m\u001b[0m\n\u001b[1;32m     10\u001b[0m \u001b[0mb1\u001b[0m \u001b[0;34m=\u001b[0m \u001b[0mpymc\u001b[0m\u001b[0;34m.\u001b[0m\u001b[0mUniform\u001b[0m\u001b[0;34m(\u001b[0m\u001b[0;34m'b1'\u001b[0m\u001b[0;34m,\u001b[0m\u001b[0;34m-\u001b[0m\u001b[0;36m0.3\u001b[0m\u001b[0;34m,\u001b[0m\u001b[0;36m0.3\u001b[0m\u001b[0;34m)\u001b[0m\u001b[0;34m\u001b[0m\u001b[0;34m\u001b[0m\u001b[0m\n",
      "\u001b[0;32m/gpfs/fs1/work/kdagon/ncar_pylib_clone_20190118/lib/python3.6/site-packages/pymc3/distributions/distribution.py\u001b[0m in \u001b[0;36m__new__\u001b[0;34m(cls, name, *args, **kwargs)\u001b[0m\n\u001b[1;32m     29\u001b[0m             \u001b[0mmodel\u001b[0m \u001b[0;34m=\u001b[0m \u001b[0mModel\u001b[0m\u001b[0;34m.\u001b[0m\u001b[0mget_context\u001b[0m\u001b[0;34m(\u001b[0m\u001b[0;34m)\u001b[0m\u001b[0;34m\u001b[0m\u001b[0;34m\u001b[0m\u001b[0m\n\u001b[1;32m     30\u001b[0m         \u001b[0;32mexcept\u001b[0m \u001b[0mTypeError\u001b[0m\u001b[0;34m:\u001b[0m\u001b[0;34m\u001b[0m\u001b[0;34m\u001b[0m\u001b[0m\n\u001b[0;32m---> 31\u001b[0;31m             raise TypeError(\"No model on context stack, which is needed to \"\n\u001b[0m\u001b[1;32m     32\u001b[0m                             \u001b[0;34m\"instantiate distributions. Add variable inside \"\u001b[0m\u001b[0;34m\u001b[0m\u001b[0;34m\u001b[0m\u001b[0m\n\u001b[1;32m     33\u001b[0m                             \u001b[0;34m\"a 'with model:' block, or use the '.dist' syntax \"\u001b[0m\u001b[0;34m\u001b[0m\u001b[0;34m\u001b[0m\u001b[0m\n",
      "\u001b[0;31mTypeError\u001b[0m: No model on context stack, which is needed to instantiate distributions. Add variable inside a 'with model:' block, or use the '.dist' syntax for a standalone distribution."
     ]
    }
   ],
   "source": [
    "# #..Define variables and priors (bounded uniform)\n",
    "# a1 = pymc.Uniform('a1',0.,40.)\n",
    "# a2 = pymc.Uniform('a2',0.,2.)\n",
    "# b1 = pymc.Uniform('b1',-1.0,1.0)\n",
    "# b2 = pymc.Uniform('b2',-2.0,2.0)\n",
    "\n",
    "#..Define variables and priors (bounded uniform, you can try Gaussian too)\n",
    "a1 = pymc.Uniform('a1',15.,25.)\n",
    "a2 = pymc.Uniform('a2',0.7,1.3)\n",
    "b1 = pymc.Uniform('b1',-0.3,0.3)\n",
    "b2 = pymc.Uniform('b2',0.3,1.3)\n",
    "\n",
    "#..Define the observation points and the \"true\" observation\n",
    "xvec = np.arange(2.0,21.,2)\n",
    "print(xvec)\n",
    "truth = np.array([20.,1.,0.1,0.9])\n",
    "ydata = two_term_one_dim(truth[0],truth[1],truth[2],truth[3],xvec)\n",
    "print(ydata)\n",
    "\n",
    "#..Define the model\n",
    "@pymc.deterministic\n",
    "def y_model(a1=a1, a2=a2, b1=b1, b2=b2, xvec = xvec):\n",
    "    pvec = two_term_one_dim(a1,a2,b1,b2,xvec)\n",
    "    return pvec\n",
    "\n",
    "#..Define the obs error standard deviation\n",
    "sigma = 0.02\n",
    "\n",
    "#..Define the likelihood (multivariate Gaussian w/ diagnonal error variance)\n",
    "y = pymc.MvNormalCov('y',mu=y_model, C=sigma**2*np.eye(xvec.shape[0]), observed=True, value=ydata)\n",
    "\n",
    "#..Bundle everything into a dict\n",
    "model = dict(a1=a1,a2=a2,b1=b1,b2=b2,y_model=y_model,y=y)"
   ]
  },
  {
   "cell_type": "code",
   "execution_count": null,
   "metadata": {
    "collapsed": false
   },
   "outputs": [],
   "source": [
    "#..Run using the standard sampler (metropolis sampler with burn-in) w/independent proposal\n",
    "S = pymc.MCMC(model)\n",
    "S.sample(iter=2000000, burn=50000)"
   ]
  },
  {
   "cell_type": "code",
   "execution_count": null,
   "metadata": {
    "collapsed": false
   },
   "outputs": [],
   "source": [
    "#..Run using the Adaptive Metropolis sampler (Haario 2001) w/covarying proposal\n",
    "#..NOTE: you may need to run the cell two before this again to get this to work\n",
    "S = pymc.MCMC(model)\n",
    "S.use_step_method(pymc.AdaptiveMetropolis, [S.a1,S.a2,S.b1,S.b2], delay=10000)\n",
    "S.sample(iter=2000000, burn=500000)"
   ]
  },
  {
   "cell_type": "code",
   "execution_count": null,
   "metadata": {
    "collapsed": false
   },
   "outputs": [],
   "source": [
    "#..Some stats\n",
    "plt.hist(S.trace('y_model')[:,0],bins=40)"
   ]
  },
  {
   "cell_type": "code",
   "execution_count": null,
   "metadata": {
    "collapsed": false
   },
   "outputs": [],
   "source": [
    "#..Plot the posterior joint parameter PDF (as a 2D and 1D marginal corner plot)\n",
    "\n",
    "labels  = ['$a_1$', '$a_2$','$b_1$','$b_2$']\n",
    "#samples = np.vstack((S.trace('a1')[:],S.trace('a2')[:],S.trace('b1')[:],S.trace('b2')[:]))\n",
    "samples = np.vstack((S.trace('a2')[:],S.trace('a1')[:],S.trace('b2')[:],S.trace('b1')[:]))\n",
    "print(samples.shape)\n",
    "\n",
    "#fig = plt.figure(figsize=(10,10))\n",
    "#ax = fig.add_subplot(5,5,1)\n",
    "#plt.plot([0,1],[0,1])\n",
    "label_kwargs = {'fontsize':'20'}\n",
    "#fig = triangle.corner(samples.T,labels=labels,truths=truth,label_kwargs=label_kwargs)\n",
    "# fig,axes = triangle.corner(samples.T,labels=labels,truths=truth,\n",
    "#                       quantiles=[.1,.5,.9],truth_color='r',\n",
    "#                       show_titles=True,\n",
    "#                       bins=50,\n",
    "#                       label_kwargs=label_kwargs,return_axes=True)\n",
    "\n",
    "\n",
    "#..NOTE the default behavior only returns fig\n",
    "#fig,axes = corner.corner(samples.T,labels=labels,truths=truth,\n",
    "fig = corner.corner(samples.T,labels=labels,truths=truth,\n",
    "                      quantiles=[.1,.5,.9],truth_color='r',\n",
    "                      show_titles=True,\n",
    "                      bins=50,\n",
    "                      label_kwargs=label_kwargs)\n",
    "fig.set_size_inches(9,8)\n",
    "\n",
    "fig.savefig('mcmc_twoterm_lowerr10.png',dpi=150)\n",
    "#fig.suptitle('Damped Harmonic Oscillator parameter uncertainty', fontsize=22,fontweight='bold',y=1.05)\n",
    "#fig.savefig('mcmc_dampharm.png',dpi=150)"
   ]
  },
  {
   "cell_type": "code",
   "execution_count": null,
   "metadata": {
    "collapsed": true
   },
   "outputs": [],
   "source": []
  },
  {
   "cell_type": "code",
   "execution_count": null,
   "metadata": {},
   "outputs": [],
   "source": []
  }
 ],
 "metadata": {
  "kernelspec": {
   "display_name": "Python (KDenv)",
   "language": "python",
   "name": "kdenv"
  },
  "language_info": {
   "codemirror_mode": {
    "name": "ipython",
    "version": 3
   },
   "file_extension": ".py",
   "mimetype": "text/x-python",
   "name": "python",
   "nbconvert_exporter": "python",
   "pygments_lexer": "ipython3",
   "version": "3.6.8"
  }
 },
 "nbformat": 4,
 "nbformat_minor": 2
}
