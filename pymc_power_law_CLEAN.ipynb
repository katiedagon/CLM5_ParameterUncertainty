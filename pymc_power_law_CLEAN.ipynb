{
 "cells": [
  {
   "cell_type": "code",
   "execution_count": null,
   "metadata": {},
   "outputs": [],
   "source": [
    "import sys\n",
    "!{sys.executable} -m pip install pymc"
   ]
  },
  {
   "cell_type": "code",
   "execution_count": null,
   "metadata": {},
   "outputs": [],
   "source": [
    "!conda install pymc"
   ]
  },
  {
   "cell_type": "code",
   "execution_count": 1,
   "metadata": {
    "collapsed": false
   },
   "outputs": [
    {
     "ename": "ModuleNotFoundError",
     "evalue": "No module named 'pymc'",
     "output_type": "error",
     "traceback": [
      "\u001b[0;31m---------------------------------------------------------------------------\u001b[0m",
      "\u001b[0;31mModuleNotFoundError\u001b[0m                       Traceback (most recent call last)",
      "\u001b[0;32m<ipython-input-1-cd2fe11ad2e9>\u001b[0m in \u001b[0;36m<module>\u001b[0;34m\u001b[0m\n\u001b[0;32m----> 1\u001b[0;31m \u001b[0;32mimport\u001b[0m \u001b[0mpymc\u001b[0m\u001b[0;34m\u001b[0m\u001b[0;34m\u001b[0m\u001b[0m\n\u001b[0m\u001b[1;32m      2\u001b[0m \u001b[0;32mimport\u001b[0m \u001b[0mnumpy\u001b[0m \u001b[0;32mas\u001b[0m \u001b[0mnp\u001b[0m\u001b[0;34m\u001b[0m\u001b[0;34m\u001b[0m\u001b[0m\n\u001b[1;32m      3\u001b[0m \u001b[0;32mimport\u001b[0m \u001b[0mmatplotlib\u001b[0m\u001b[0;34m\u001b[0m\u001b[0;34m\u001b[0m\u001b[0m\n\u001b[1;32m      4\u001b[0m \u001b[0;32mimport\u001b[0m \u001b[0mmatplotlib\u001b[0m\u001b[0;34m.\u001b[0m\u001b[0mpyplot\u001b[0m \u001b[0;32mas\u001b[0m \u001b[0mplt\u001b[0m\u001b[0;34m\u001b[0m\u001b[0;34m\u001b[0m\u001b[0m\n\u001b[1;32m      5\u001b[0m \u001b[0;32mimport\u001b[0m \u001b[0mmatplotlib\u001b[0m\u001b[0;34m.\u001b[0m\u001b[0mcm\u001b[0m \u001b[0;32mas\u001b[0m \u001b[0mcm\u001b[0m\u001b[0;34m\u001b[0m\u001b[0;34m\u001b[0m\u001b[0m\n",
      "\u001b[0;31mModuleNotFoundError\u001b[0m: No module named 'pymc'"
     ]
    }
   ],
   "source": [
    "import pymc\n",
    "import numpy as np\n",
    "import matplotlib\n",
    "import matplotlib.pyplot as plt\n",
    "import matplotlib.cm as cm\n",
    "import corner\n",
    "%matplotlib inline"
   ]
  },
  {
   "cell_type": "markdown",
   "metadata": {},
   "source": [
    "## Simple MCMC notebook for two-term power law \n",
    "$$ Y = a_1 X**b_1 + a_2 X**b_2 $$\n",
    "Find a1, b1, a2, b2 given some uncertain obs of Y over some values of X"
   ]
  },
  {
   "cell_type": "code",
   "execution_count": null,
   "metadata": {
    "collapsed": false
   },
   "outputs": [],
   "source": [
    "#..Set up simple power law model function\n",
    "def two_term_one_dim(a1,a2,b1,b2,xvec):\n",
    "    pvec = a1*xvec**b1 + a2*xvec**b2\n",
    "    return pvec"
   ]
  },
  {
   "cell_type": "code",
   "execution_count": null,
   "metadata": {
    "collapsed": false
   },
   "outputs": [],
   "source": [
    "#..Test out this function for from values of xvec\n",
    "xvec = np.linspace(0.1,100.,500)\n",
    "pvec = two_term_one_dim(20.,1.,0.1,0.9,xvec)\n"
   ]
  },
  {
   "cell_type": "code",
   "execution_count": null,
   "metadata": {
    "collapsed": false
   },
   "outputs": [],
   "source": [
    "plt.plot(xvec,pvec)"
   ]
  },
  {
   "cell_type": "code",
   "execution_count": null,
   "metadata": {
    "collapsed": false
   },
   "outputs": [],
   "source": [
    "# #..Define variables and priors (bounded uniform)\n",
    "# a1 = pymc.Uniform('a1',0.,40.)\n",
    "# a2 = pymc.Uniform('a2',0.,2.)\n",
    "# b1 = pymc.Uniform('b1',-1.0,1.0)\n",
    "# b2 = pymc.Uniform('b2',-2.0,2.0)\n",
    "\n",
    "#..Define variables and priors (bounded uniform, you can try Gaussian too)\n",
    "a1 = pymc.Uniform('a1',15.,25.)\n",
    "a2 = pymc.Uniform('a2',0.7,1.3)\n",
    "b1 = pymc.Uniform('b1',-0.3,0.3)\n",
    "b2 = pymc.Uniform('b2',0.3,1.3)\n",
    "\n",
    "#..Define the observation points and the \"true\" observation\n",
    "xvec = np.arange(2.0,21.,2)\n",
    "print(xvec)\n",
    "truth = np.array([20.,1.,0.1,0.9])\n",
    "ydata = two_term_one_dim(truth[0],truth[1],truth[2],truth[3],xvec)\n",
    "print(ydata)\n",
    "\n",
    "#..Define the model\n",
    "@pymc.deterministic\n",
    "def y_model(a1=a1, a2=a2, b1=b1, b2=b2, xvec = xvec):\n",
    "    pvec = two_term_one_dim(a1,a2,b1,b2,xvec)\n",
    "    return pvec\n",
    "\n",
    "#..Define the obs error standard deviation\n",
    "sigma = 0.02\n",
    "\n",
    "#..Define the likelihood (multivariate Gaussian w/ diagnonal error variance)\n",
    "y = pymc.MvNormalCov('y',mu=y_model, C=sigma**2*np.eye(xvec.shape[0]), observed=True, value=ydata)\n",
    "\n",
    "#..Bundle everything into a dict\n",
    "model = dict(a1=a1,a2=a2,b1=b1,b2=b2,y_model=y_model,y=y)"
   ]
  },
  {
   "cell_type": "code",
   "execution_count": null,
   "metadata": {
    "collapsed": false
   },
   "outputs": [],
   "source": [
    "#..Run using the standard sampler (metropolis sampler with burn-in) w/independent proposal\n",
    "S = pymc.MCMC(model)\n",
    "S.sample(iter=2000000, burn=50000)"
   ]
  },
  {
   "cell_type": "code",
   "execution_count": null,
   "metadata": {
    "collapsed": false
   },
   "outputs": [],
   "source": [
    "#..Run using the Adaptive Metropolis sampler (Haario 2001) w/covarying proposal\n",
    "#..NOTE: you may need to run the cell two before this again to get this to work\n",
    "S = pymc.MCMC(model)\n",
    "S.use_step_method(pymc.AdaptiveMetropolis, [S.a1,S.a2,S.b1,S.b2], delay=10000)\n",
    "S.sample(iter=2000000, burn=500000)"
   ]
  },
  {
   "cell_type": "code",
   "execution_count": null,
   "metadata": {
    "collapsed": false
   },
   "outputs": [],
   "source": [
    "#..Some stats\n",
    "plt.hist(S.trace('y_model')[:,0],bins=40)"
   ]
  },
  {
   "cell_type": "code",
   "execution_count": null,
   "metadata": {
    "collapsed": false
   },
   "outputs": [],
   "source": [
    "#..Plot the posterior joint parameter PDF (as a 2D and 1D marginal corner plot)\n",
    "\n",
    "labels  = ['$a_1$', '$a_2$','$b_1$','$b_2$']\n",
    "#samples = np.vstack((S.trace('a1')[:],S.trace('a2')[:],S.trace('b1')[:],S.trace('b2')[:]))\n",
    "samples = np.vstack((S.trace('a2')[:],S.trace('a1')[:],S.trace('b2')[:],S.trace('b1')[:]))\n",
    "print(samples.shape)\n",
    "\n",
    "#fig = plt.figure(figsize=(10,10))\n",
    "#ax = fig.add_subplot(5,5,1)\n",
    "#plt.plot([0,1],[0,1])\n",
    "label_kwargs = {'fontsize':'20'}\n",
    "#fig = triangle.corner(samples.T,labels=labels,truths=truth,label_kwargs=label_kwargs)\n",
    "# fig,axes = triangle.corner(samples.T,labels=labels,truths=truth,\n",
    "#                       quantiles=[.1,.5,.9],truth_color='r',\n",
    "#                       show_titles=True,\n",
    "#                       bins=50,\n",
    "#                       label_kwargs=label_kwargs,return_axes=True)\n",
    "\n",
    "\n",
    "#..NOTE the default behavior only returns fig\n",
    "#fig,axes = corner.corner(samples.T,labels=labels,truths=truth,\n",
    "fig = corner.corner(samples.T,labels=labels,truths=truth,\n",
    "                      quantiles=[.1,.5,.9],truth_color='r',\n",
    "                      show_titles=True,\n",
    "                      bins=50,\n",
    "                      label_kwargs=label_kwargs)\n",
    "fig.set_size_inches(9,8)\n",
    "\n",
    "fig.savefig('mcmc_twoterm_lowerr10.png',dpi=150)\n",
    "#fig.suptitle('Damped Harmonic Oscillator parameter uncertainty', fontsize=22,fontweight='bold',y=1.05)\n",
    "#fig.savefig('mcmc_dampharm.png',dpi=150)"
   ]
  },
  {
   "cell_type": "code",
   "execution_count": null,
   "metadata": {
    "collapsed": true
   },
   "outputs": [],
   "source": []
  },
  {
   "cell_type": "code",
   "execution_count": null,
   "metadata": {},
   "outputs": [],
   "source": []
  }
 ],
 "metadata": {
  "kernelspec": {
   "display_name": "Pangeo (Python 3.6)",
   "language": "python",
   "name": "pangeo-3.6"
  },
  "language_info": {
   "codemirror_mode": {
    "name": "ipython",
    "version": 3
   },
   "file_extension": ".py",
   "mimetype": "text/x-python",
   "name": "python",
   "nbconvert_exporter": "python",
   "pygments_lexer": "ipython3",
   "version": "3.6.7"
  }
 },
 "nbformat": 4,
 "nbformat_minor": 2
}
