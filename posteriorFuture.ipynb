{
 "cells": [
  {
   "cell_type": "markdown",
   "metadata": {},
   "source": [
    "# Projecting parameter uncertainty under future climate change"
   ]
  },
  {
   "cell_type": "markdown",
   "metadata": {},
   "source": [
    "Import modules"
   ]
  },
  {
   "cell_type": "code",
   "execution_count": 2,
   "metadata": {},
   "outputs": [],
   "source": [
    "import numpy as np\n",
    "from scipy.io import netcdf as nc\n",
    "import matplotlib.pyplot as plt"
   ]
  },
  {
   "cell_type": "markdown",
   "metadata": {},
   "source": [
    "Parameter information"
   ]
  },
  {
   "cell_type": "code",
   "execution_count": 3,
   "metadata": {},
   "outputs": [],
   "source": [
    "in_params = ['medlynslope','dleaf','kmax','fff','dint','baseflow_scalar']\n",
    "npar = len(in_params)\n",
    "ndim = npar"
   ]
  },
  {
   "cell_type": "markdown",
   "metadata": {},
   "source": [
    "Select output variables"
   ]
  },
  {
   "cell_type": "code",
   "execution_count": 4,
   "metadata": {},
   "outputs": [],
   "source": [
    "var = [\"GPP\", \"LHF\"]\n",
    "nvar = len(var)"
   ]
  },
  {
   "cell_type": "markdown",
   "metadata": {},
   "source": [
    "Read posterior distribution from MCMC and plot"
   ]
  },
  {
   "cell_type": "code",
   "execution_count": 16,
   "metadata": {},
   "outputs": [
    {
     "name": "stdout",
     "output_type": "stream",
     "text": [
      "(100, 6)\n"
     ]
    },
    {
     "data": {
      "image/png": "[encoded data removed]",
      "text/plain": [
       "<Figure size 720x576 with 6 Axes>"
      ]
     },
     "metadata": {
      "needs_background": "light"
     },
     "output_type": "display_data"
    }
   ],
   "source": [
    "posterior = np.load(\"MCMC_posteriors/MCMC_last_sample_1e4epochs_correctobs_initopt.npy\")\n",
    "print(posterior.shape)\n",
    "nsamples = posterior.shape[0]\n",
    "fig, axes = plt.subplots(nrows=2, ncols=3, sharex=False, sharey='row', figsize=(10, 8))\n",
    "labels = in_params\n",
    "axes = axes.flatten()\n",
    "for i in range(ndim):\n",
    "    ax = axes[i]\n",
    "    ax.hist(posterior[:,i])\n",
    "    ax.set_title(labels[i])\n",
    "\n",
    "axes[0].set_ylabel(\"counts\")\n",
    "axes[3].set_ylabel(\"counts\");"
   ]
  },
  {
   "cell_type": "markdown",
   "metadata": {},
   "source": [
    "Supress tensorflow warnings"
   ]
  },
  {
   "cell_type": "code",
   "execution_count": 5,
   "metadata": {},
   "outputs": [
    {
     "name": "stderr",
     "output_type": "stream",
     "text": [
      "/glade/work/kdagon/miniconda/envs/ML/lib/python3.7/site-packages/tensorflow/python/framework/dtypes.py:516: FutureWarning: Passing (type, 1) or '1type' as a synonym of type is deprecated; in a future version of numpy, it will be understood as (type, (1,)) / '(1,)type'.\n",
      "  _np_qint8 = np.dtype([(\"qint8\", np.int8, 1)])\n",
      "/glade/work/kdagon/miniconda/envs/ML/lib/python3.7/site-packages/tensorflow/python/framework/dtypes.py:517: FutureWarning: Passing (type, 1) or '1type' as a synonym of type is deprecated; in a future version of numpy, it will be understood as (type, (1,)) / '(1,)type'.\n",
      "  _np_quint8 = np.dtype([(\"quint8\", np.uint8, 1)])\n",
      "/glade/work/kdagon/miniconda/envs/ML/lib/python3.7/site-packages/tensorflow/python/framework/dtypes.py:518: FutureWarning: Passing (type, 1) or '1type' as a synonym of type is deprecated; in a future version of numpy, it will be understood as (type, (1,)) / '(1,)type'.\n",
      "  _np_qint16 = np.dtype([(\"qint16\", np.int16, 1)])\n",
      "/glade/work/kdagon/miniconda/envs/ML/lib/python3.7/site-packages/tensorflow/python/framework/dtypes.py:519: FutureWarning: Passing (type, 1) or '1type' as a synonym of type is deprecated; in a future version of numpy, it will be understood as (type, (1,)) / '(1,)type'.\n",
      "  _np_quint16 = np.dtype([(\"quint16\", np.uint16, 1)])\n",
      "/glade/work/kdagon/miniconda/envs/ML/lib/python3.7/site-packages/tensorflow/python/framework/dtypes.py:520: FutureWarning: Passing (type, 1) or '1type' as a synonym of type is deprecated; in a future version of numpy, it will be understood as (type, (1,)) / '(1,)type'.\n",
      "  _np_qint32 = np.dtype([(\"qint32\", np.int32, 1)])\n",
      "/glade/work/kdagon/miniconda/envs/ML/lib/python3.7/site-packages/tensorflow/python/framework/dtypes.py:525: FutureWarning: Passing (type, 1) or '1type' as a synonym of type is deprecated; in a future version of numpy, it will be understood as (type, (1,)) / '(1,)type'.\n",
      "  np_resource = np.dtype([(\"resource\", np.ubyte, 1)])\n",
      "/glade/work/kdagon/miniconda/envs/ML/lib/python3.7/site-packages/tensorboard/compat/tensorflow_stub/dtypes.py:541: FutureWarning: Passing (type, 1) or '1type' as a synonym of type is deprecated; in a future version of numpy, it will be understood as (type, (1,)) / '(1,)type'.\n",
      "  _np_qint8 = np.dtype([(\"qint8\", np.int8, 1)])\n",
      "/glade/work/kdagon/miniconda/envs/ML/lib/python3.7/site-packages/tensorboard/compat/tensorflow_stub/dtypes.py:542: FutureWarning: Passing (type, 1) or '1type' as a synonym of type is deprecated; in a future version of numpy, it will be understood as (type, (1,)) / '(1,)type'.\n",
      "  _np_quint8 = np.dtype([(\"quint8\", np.uint8, 1)])\n",
      "/glade/work/kdagon/miniconda/envs/ML/lib/python3.7/site-packages/tensorboard/compat/tensorflow_stub/dtypes.py:543: FutureWarning: Passing (type, 1) or '1type' as a synonym of type is deprecated; in a future version of numpy, it will be understood as (type, (1,)) / '(1,)type'.\n",
      "  _np_qint16 = np.dtype([(\"qint16\", np.int16, 1)])\n",
      "/glade/work/kdagon/miniconda/envs/ML/lib/python3.7/site-packages/tensorboard/compat/tensorflow_stub/dtypes.py:544: FutureWarning: Passing (type, 1) or '1type' as a synonym of type is deprecated; in a future version of numpy, it will be understood as (type, (1,)) / '(1,)type'.\n",
      "  _np_quint16 = np.dtype([(\"quint16\", np.uint16, 1)])\n",
      "/glade/work/kdagon/miniconda/envs/ML/lib/python3.7/site-packages/tensorboard/compat/tensorflow_stub/dtypes.py:545: FutureWarning: Passing (type, 1) or '1type' as a synonym of type is deprecated; in a future version of numpy, it will be understood as (type, (1,)) / '(1,)type'.\n",
      "  _np_qint32 = np.dtype([(\"qint32\", np.int32, 1)])\n",
      "/glade/work/kdagon/miniconda/envs/ML/lib/python3.7/site-packages/tensorboard/compat/tensorflow_stub/dtypes.py:550: FutureWarning: Passing (type, 1) or '1type' as a synonym of type is deprecated; in a future version of numpy, it will be understood as (type, (1,)) / '(1,)type'.\n",
      "  np_resource = np.dtype([(\"resource\", np.ubyte, 1)])\n"
     ]
    }
   ],
   "source": [
    "import os\n",
    "os.environ['TF_CPP_MIN_LOG_LEVEL'] = '2'\n",
    "import tensorflow as tf"
   ]
  },
  {
   "cell_type": "markdown",
   "metadata": {},
   "source": [
    "ML modules"
   ]
  },
  {
   "cell_type": "code",
   "execution_count": 5,
   "metadata": {},
   "outputs": [
    {
     "name": "stderr",
     "output_type": "stream",
     "text": [
      "Using TensorFlow backend.\n",
      "/glade/work/kdagon/miniconda/envs/ML/lib/python3.7/site-packages/tensorflow/python/framework/dtypes.py:516: FutureWarning: Passing (type, 1) or '1type' as a synonym of type is deprecated; in a future version of numpy, it will be understood as (type, (1,)) / '(1,)type'.\n",
      "  _np_qint8 = np.dtype([(\"qint8\", np.int8, 1)])\n",
      "/glade/work/kdagon/miniconda/envs/ML/lib/python3.7/site-packages/tensorflow/python/framework/dtypes.py:517: FutureWarning: Passing (type, 1) or '1type' as a synonym of type is deprecated; in a future version of numpy, it will be understood as (type, (1,)) / '(1,)type'.\n",
      "  _np_quint8 = np.dtype([(\"quint8\", np.uint8, 1)])\n",
      "/glade/work/kdagon/miniconda/envs/ML/lib/python3.7/site-packages/tensorflow/python/framework/dtypes.py:518: FutureWarning: Passing (type, 1) or '1type' as a synonym of type is deprecated; in a future version of numpy, it will be understood as (type, (1,)) / '(1,)type'.\n",
      "  _np_qint16 = np.dtype([(\"qint16\", np.int16, 1)])\n",
      "/glade/work/kdagon/miniconda/envs/ML/lib/python3.7/site-packages/tensorflow/python/framework/dtypes.py:519: FutureWarning: Passing (type, 1) or '1type' as a synonym of type is deprecated; in a future version of numpy, it will be understood as (type, (1,)) / '(1,)type'.\n",
      "  _np_quint16 = np.dtype([(\"quint16\", np.uint16, 1)])\n",
      "/glade/work/kdagon/miniconda/envs/ML/lib/python3.7/site-packages/tensorflow/python/framework/dtypes.py:520: FutureWarning: Passing (type, 1) or '1type' as a synonym of type is deprecated; in a future version of numpy, it will be understood as (type, (1,)) / '(1,)type'.\n",
      "  _np_qint32 = np.dtype([(\"qint32\", np.int32, 1)])\n",
      "/glade/work/kdagon/miniconda/envs/ML/lib/python3.7/site-packages/tensorflow/python/framework/dtypes.py:525: FutureWarning: Passing (type, 1) or '1type' as a synonym of type is deprecated; in a future version of numpy, it will be understood as (type, (1,)) / '(1,)type'.\n",
      "  np_resource = np.dtype([(\"resource\", np.ubyte, 1)])\n",
      "/glade/work/kdagon/miniconda/envs/ML/lib/python3.7/site-packages/tensorboard/compat/tensorflow_stub/dtypes.py:541: FutureWarning: Passing (type, 1) or '1type' as a synonym of type is deprecated; in a future version of numpy, it will be understood as (type, (1,)) / '(1,)type'.\n",
      "  _np_qint8 = np.dtype([(\"qint8\", np.int8, 1)])\n",
      "/glade/work/kdagon/miniconda/envs/ML/lib/python3.7/site-packages/tensorboard/compat/tensorflow_stub/dtypes.py:542: FutureWarning: Passing (type, 1) or '1type' as a synonym of type is deprecated; in a future version of numpy, it will be understood as (type, (1,)) / '(1,)type'.\n",
      "  _np_quint8 = np.dtype([(\"quint8\", np.uint8, 1)])\n",
      "/glade/work/kdagon/miniconda/envs/ML/lib/python3.7/site-packages/tensorboard/compat/tensorflow_stub/dtypes.py:543: FutureWarning: Passing (type, 1) or '1type' as a synonym of type is deprecated; in a future version of numpy, it will be understood as (type, (1,)) / '(1,)type'.\n",
      "  _np_qint16 = np.dtype([(\"qint16\", np.int16, 1)])\n",
      "/glade/work/kdagon/miniconda/envs/ML/lib/python3.7/site-packages/tensorboard/compat/tensorflow_stub/dtypes.py:544: FutureWarning: Passing (type, 1) or '1type' as a synonym of type is deprecated; in a future version of numpy, it will be understood as (type, (1,)) / '(1,)type'.\n",
      "  _np_quint16 = np.dtype([(\"quint16\", np.uint16, 1)])\n",
      "/glade/work/kdagon/miniconda/envs/ML/lib/python3.7/site-packages/tensorboard/compat/tensorflow_stub/dtypes.py:545: FutureWarning: Passing (type, 1) or '1type' as a synonym of type is deprecated; in a future version of numpy, it will be understood as (type, (1,)) / '(1,)type'.\n",
      "  _np_qint32 = np.dtype([(\"qint32\", np.int32, 1)])\n",
      "/glade/work/kdagon/miniconda/envs/ML/lib/python3.7/site-packages/tensorboard/compat/tensorflow_stub/dtypes.py:550: FutureWarning: Passing (type, 1) or '1type' as a synonym of type is deprecated; in a future version of numpy, it will be understood as (type, (1,)) / '(1,)type'.\n",
      "  np_resource = np.dtype([(\"resource\", np.ubyte, 1)])\n"
     ]
    }
   ],
   "source": [
    "import keras.backend as K\n",
    "from keras.models import load_model"
   ]
  },
  {
   "cell_type": "markdown",
   "metadata": {},
   "source": [
    "Define error metric for trained NN"
   ]
  },
  {
   "cell_type": "code",
   "execution_count": 6,
   "metadata": {},
   "outputs": [],
   "source": [
    "def mean_sq_err(y_true,y_pred):\n",
    "    return K.mean((y_true-y_pred)**2)"
   ]
  },
  {
   "cell_type": "markdown",
   "metadata": {},
   "source": [
    "Load previously trained model"
   ]
  },
  {
   "cell_type": "code",
   "execution_count": 7,
   "metadata": {},
   "outputs": [
    {
     "name": "stderr",
     "output_type": "stream",
     "text": [
      "WARNING: Logging before flag parsing goes to stderr.\n",
      "W1121 10:57:13.808531 139725534902016 deprecation_wrapper.py:119] From /glade/work/kdagon/miniconda/envs/ML/lib/python3.7/site-packages/keras/backend/tensorflow_backend.py:517: The name tf.placeholder is deprecated. Please use tf.compat.v1.placeholder instead.\n",
      "\n",
      "W1121 10:57:13.822297 139725534902016 deprecation_wrapper.py:119] From /glade/work/kdagon/miniconda/envs/ML/lib/python3.7/site-packages/keras/backend/tensorflow_backend.py:4138: The name tf.random_uniform is deprecated. Please use tf.random.uniform instead.\n",
      "\n",
      "W1121 10:57:13.876287 139725534902016 deprecation_wrapper.py:119] From /glade/work/kdagon/miniconda/envs/ML/lib/python3.7/site-packages/keras/backend/tensorflow_backend.py:174: The name tf.get_default_session is deprecated. Please use tf.compat.v1.get_default_session instead.\n",
      "\n",
      "W1121 10:57:13.877002 139725534902016 deprecation_wrapper.py:119] From /glade/work/kdagon/miniconda/envs/ML/lib/python3.7/site-packages/keras/backend/tensorflow_backend.py:184: The name tf.ConfigProto is deprecated. Please use tf.compat.v1.ConfigProto instead.\n",
      "\n",
      "W1121 10:57:13.877464 139725534902016 deprecation_wrapper.py:119] From /glade/work/kdagon/miniconda/envs/ML/lib/python3.7/site-packages/keras/backend/tensorflow_backend.py:186: The name tf.Session is deprecated. Please use tf.compat.v1.Session instead.\n",
      "\n",
      "W1121 10:57:14.051851 139725534902016 deprecation_wrapper.py:119] From /glade/work/kdagon/miniconda/envs/ML/lib/python3.7/site-packages/keras/optimizers.py:790: The name tf.train.Optimizer is deprecated. Please use tf.compat.v1.train.Optimizer instead.\n",
      "\n"
     ]
    }
   ],
   "source": [
    "NN_models = [load_model(\"emulators/NN_\"+v+\"_finalize_GM_diff.h5\", \n",
    "    custom_objects={'mean_sq_err' :mean_sq_err}) for v in var]\n",
    "#NN_GPP = load_model(\"emulators/NN_GPP_finalize_GM_diff.h5\", custom_objects={'mean_sq_err' :mean_sq_err})"
   ]
  },
  {
   "cell_type": "markdown",
   "metadata": {},
   "source": [
    "Generate predictions from posterior distributions"
   ]
  },
  {
   "cell_type": "code",
   "execution_count": 17,
   "metadata": {},
   "outputs": [
    {
     "name": "stdout",
     "output_type": "stream",
     "text": [
      "(100, 1) (100, 1)\n"
     ]
    }
   ],
   "source": [
    "post_preds = [NN_models[i].predict(posterior) for i,v in enumerate(var)]\n",
    "print(post_preds[0].shape, post_preds[1].shape)\n",
    "#post_preds = NN_GPP.predict(posterior)\n",
    "#post_preds.shape"
   ]
  },
  {
   "cell_type": "markdown",
   "metadata": {},
   "source": [
    "Look at distribution of predictions"
   ]
  },
  {
   "cell_type": "code",
   "execution_count": 19,
   "metadata": {},
   "outputs": [
    {
     "data": {
      "image/png": "[encoded data removed]",
      "text/plain": [
       "<Figure size 432x288 with 1 Axes>"
      ]
     },
     "metadata": {
      "needs_background": "light"
     },
     "output_type": "display_data"
    }
   ],
   "source": [
    "#GPP\n",
    "plt.hist(post_preds[0], bins=20)\n",
    "plt.ylabel(\"Counts\")\n",
    "plt.xlabel(\"Global Mean Change in GPP (gC/m2/yr)\")\n",
    "plt.title(\"Predicted change in GPP from posterior distribution of parameter values\");\n",
    "#plt.savefig(\"dist_posterior_predictions_GPP_correctobs_initopt.pdf\")"
   ]
  },
  {
   "cell_type": "code",
   "execution_count": 20,
   "metadata": {},
   "outputs": [
    {
     "data": {
      "image/png": "[encoded data removed]",
      "text/plain": [
       "<Figure size 432x288 with 1 Axes>"
      ]
     },
     "metadata": {
      "needs_background": "light"
     },
     "output_type": "display_data"
    }
   ],
   "source": [
    "#LHF\n",
    "plt.hist(post_preds[1], bins=20)\n",
    "plt.ylabel(\"Counts\")\n",
    "plt.xlabel(\"Global Mean Change in LHF (W/m2)\")\n",
    "plt.title(\"Predicted change in LHF from posterior distribution of parameter values\");\n",
    "#plt.savefig(\"dist_posterior_predictions_LHF_correctobs_initopt.pdf\")"
   ]
  },
  {
   "cell_type": "markdown",
   "metadata": {},
   "source": [
    "Compare this distribution to PPE results for change in GPP with +2K warming"
   ]
  },
  {
   "cell_type": "code",
   "execution_count": 11,
   "metadata": {},
   "outputs": [],
   "source": [
    "f=nc.netcdf_file(\"outputdata/outputdata_\"+var[0]+\"_GM_100_diff.nc\",'r', mmap=False)\n",
    "f2=nc.netcdf_file(\"outputdata/outputdata_\"+var[1]+\"_GM_100_diff.nc\",'r', mmap=False)"
   ]
  },
  {
   "cell_type": "code",
   "execution_count": 12,
   "metadata": {},
   "outputs": [],
   "source": [
    "X = f.variables[var[0]]\n",
    "X2 = f2.variables[var[1]]\n",
    "outputdata = X[:]\n",
    "outputdata2 = X2[:]"
   ]
  },
  {
   "cell_type": "code",
   "execution_count": 47,
   "metadata": {},
   "outputs": [
    {
     "name": "stdout",
     "output_type": "stream",
     "text": [
      "[-32.029587 -31.895456 -32.763557 -33.753975 -31.430616 -32.850037\n",
      " -33.741287 -31.761787 -32.759586 -26.268238 -42.192455 -34.028927\n",
      " -32.60388  -31.118233 -32.5065   -32.144173 -31.667263 -30.304968\n",
      " -31.401285 -31.610529 -24.724022 -31.797266 -32.47058  -31.832561\n",
      " -32.068665 -33.77562  -31.673923 -32.25352  -31.502539 -32.416645\n",
      " -33.207123 -32.318558 -31.3794   -32.065804 -38.736774 -34.50325\n",
      " -33.36902  -32.675133 -35.770706 -46.651726 -33.596195 -33.321125\n",
      " -31.778002 -33.37695  -31.767544 -31.912113 -25.950626 -36.00681\n",
      " -34.187477 -42.610554 -32.262383 -34.158165 -32.974583 -30.90626\n",
      " -32.5655   -31.99156  -31.514435 -34.50813  -36.862125 -32.238026\n",
      " -35.253887 -33.68643  -31.579536 -31.964504 -37.101562 -28.55588\n",
      " -27.875021 -33.939877 -32.014618 -34.253796 -35.224922 -32.413887\n",
      " -38.533543 -30.873335 -31.250137 -32.75207  -32.653255 -32.672565\n",
      " -30.853868 -30.753525 -31.568655 -38.017143 -32.085808 -33.49322\n",
      " -29.493828 -21.784636 -31.213226 -31.90281  -33.256546 -31.216434\n",
      " -34.179634 -45.77334  -34.5051   -32.30305  -36.45972  -34.328266\n",
      " -31.972807 -27.587988 -30.075174 -31.554688]\n"
     ]
    },
    {
     "data": {
      "image/png": "[encoded data removed]",
      "text/plain": [
       "<Figure size 432x288 with 1 Axes>"
      ]
     },
     "metadata": {
      "needs_background": "light"
     },
     "output_type": "display_data"
    }
   ],
   "source": [
    "plt.hist(outputdata, bins=20)\n",
    "plt.ylabel(\"Counts\")\n",
    "plt.xlabel(\"Global Mean Change in \"+var[0]+\" (gC/m2/yr)\")\n",
    "#plt.xlabel(\"Global Mean Change in \"+var[1]+\" (W/m2)\")\n",
    "plt.title(\"Predicted change in \"+var[0]+\" from difference in PPEs with +2K warming\");\n",
    "#plt.title(\"Predicted change in \"+var[1]+\" from difference in PPEs with +2K warming\");\n",
    "#plt.savefig(\"dist_PPE_2Kwarming_\"+var[1]+\".pdf\")\n",
    "print(outputdata)"
   ]
  },
  {
   "cell_type": "markdown",
   "metadata": {},
   "source": [
    "Plot distributions on same plot"
   ]
  },
  {
   "cell_type": "code",
   "execution_count": 70,
   "metadata": {},
   "outputs": [
    {
     "data": {
      "text/plain": [
       "([array([ 4.,  5., 62., 25.,  4.]), array([100.,   0.,   0.,   0.,   0.])],\n",
       " array([-46.651726, -41.678307, -36.70489 , -31.731472, -26.758053,\n",
       "        -21.784636], dtype=float32),\n",
       " <a list of 2 Lists of Patches objects>)"
      ]
     },
     "execution_count": 70,
     "metadata": {},
     "output_type": "execute_result"
    },
    {
     "data": {
      "image/png": "[encoded data removed]",
      "text/plain": [
       "<Figure size 432x288 with 1 Axes>"
      ]
     },
     "metadata": {
      "needs_background": "light"
     },
     "output_type": "display_data"
    }
   ],
   "source": [
    "#plt.figure(figsize=(40,5))\n",
    "#plt.hist(outputdata, bins=20, label=\"Future Climate\")\n",
    "#plt.hist(post_preds[0][:,0], label=\"Posterior Distribution\")\n",
    "#post_preds[0][:,0].shape\n",
    "plt.hist([outputdata,post_preds[0][:,0]], bins=5)\n",
    "#plt.scatter(range(len(outputdata)), outputdata)\n",
    "#plt.scatter(range(len(post_preds[0])), post_preds[0])\n",
    "#plt.ylabel(\"Counts\")\n",
    "#plt.xlabel(\"Global Mean Change in \"+var[0]+\" (gC/m2/yr)\")"
   ]
  },
  {
   "cell_type": "code",
   "execution_count": 38,
   "metadata": {},
   "outputs": [
    {
     "data": {
      "image/png": "[encoded data removed]",
      "text/plain": [
       "<Figure size 432x288 with 1 Axes>"
      ]
     },
     "metadata": {
      "needs_background": "light"
     },
     "output_type": "display_data"
    }
   ],
   "source": [
    "plt.hist(outputdata2, bins=20, label=\"Future Climate\")\n",
    "plt.hist(post_preds[1], bins=20, label=\"Posterior Distribution\")\n",
    "plt.ylabel(\"Counts\")\n",
    "plt.xlabel(\"Global Mean Change in LHF (W/m2)\")\n",
    "plt.legend()\n",
    "#plt.title(\"Predicted change in LHF from posterior distribution of parameter values\");\n",
    "#plt.savefig(\"dist_PPE_2Kwarming_posterior_predictions_LHF_correctobs_initopt.pdf\")"
   ]
  },
  {
   "cell_type": "markdown",
   "metadata": {},
   "source": [
    "Reconstruct spatial maps using SVD of difference (future - control)"
   ]
  },
  {
   "cell_type": "code",
   "execution_count": 61,
   "metadata": {},
   "outputs": [
    {
     "name": "stdout",
     "output_type": "stream",
     "text": [
      "(100, 3312)\n",
      "(100, 100) (100,) (100, 3312)\n",
      "(100, 724)\n",
      "(100, 100) (100,) (100, 724)\n"
     ]
    }
   ],
   "source": [
    "f = nc.netcdf_file(\"outputdata/outputdata_\"+var[0]+\"_forSVD_100_diff.nc\",'r',mmap=False)\n",
    "X = f.variables[var[0]]\n",
    "mask = f.variables['datamask']\n",
    "d = X[:]\n",
    "m = mask[:]\n",
    "nens=d.shape[0]\n",
    "nlat=d.shape[1]\n",
    "nlon=d.shape[2]\n",
    "dr = np.reshape(d,(nens,nlat*nlon))\n",
    "print(dr.shape)\n",
    "dr1 = dr\n",
    "dr1[dr1==1.e+36] = 0\n",
    "U1,s1,Vh1 = np.linalg.svd(dr1, full_matrices=False)\n",
    "print(U1.shape, s1.shape, Vh1.shape)\n",
    "# alternate way which removes non-land points:\n",
    "mr = np.reshape(m,nlat*nlon)\n",
    "drm = dr[:,mr==1]\n",
    "drm[drm==1.e+36] = 0\n",
    "print(drm.shape)\n",
    "U,s,Vh = np.linalg.svd(drm, full_matrices=False)\n",
    "print(U.shape, s.shape, Vh.shape)\n",
    "#s_trunc = s[:3] # truncated at 3 modes - but should I be using more? only ~75% of variance explained. would require re-creating/training NNs for GPP/LHF diffs, thus re-doing optimization/MCMC to get posteriors\n",
    "#Vh_trunc = Vh[:3,:]"
   ]
  },
  {
   "cell_type": "code",
   "execution_count": 62,
   "metadata": {},
   "outputs": [
    {
     "ename": "NameError",
     "evalue": "name 'post_preds' is not defined",
     "output_type": "error",
     "traceback": [
      "\u001b[0;31m---------------------------------------------------------------------------\u001b[0m",
      "\u001b[0;31mNameError\u001b[0m                                 Traceback (most recent call last)",
      "\u001b[0;32m<ipython-input-62-4c4d5b34c42f>\u001b[0m in \u001b[0;36m<module>\u001b[0;34m\u001b[0m\n\u001b[1;32m      1\u001b[0m \u001b[0;31m#reconstruction\u001b[0m\u001b[0;34m\u001b[0m\u001b[0;34m\u001b[0m\u001b[0;34m\u001b[0m\u001b[0m\n\u001b[0;32m----> 2\u001b[0;31m \u001b[0mU_preds\u001b[0m \u001b[0;34m=\u001b[0m \u001b[0mpost_preds\u001b[0m\u001b[0;34m[\u001b[0m\u001b[0;36m0\u001b[0m\u001b[0;34m]\u001b[0m\u001b[0;34m\u001b[0m\u001b[0;34m\u001b[0m\u001b[0m\n\u001b[0m\u001b[1;32m      3\u001b[0m \u001b[0mrecon1\u001b[0m \u001b[0;34m=\u001b[0m \u001b[0mnp\u001b[0m\u001b[0;34m.\u001b[0m\u001b[0mdot\u001b[0m\u001b[0;34m(\u001b[0m\u001b[0mU_preds\u001b[0m\u001b[0;34m*\u001b[0m\u001b[0ms_trunc\u001b[0m\u001b[0;34m,\u001b[0m \u001b[0mVh_trunc\u001b[0m\u001b[0;34m)\u001b[0m\u001b[0;34m\u001b[0m\u001b[0;34m\u001b[0m\u001b[0m\n\u001b[1;32m      4\u001b[0m \u001b[0mprint\u001b[0m\u001b[0;34m(\u001b[0m\u001b[0mrecon1\u001b[0m\u001b[0;34m.\u001b[0m\u001b[0mshape\u001b[0m\u001b[0;34m)\u001b[0m\u001b[0;34m\u001b[0m\u001b[0;34m\u001b[0m\u001b[0m\n\u001b[1;32m      5\u001b[0m \u001b[0;31m#smat_trunc = np.diag(s_trunc)\u001b[0m\u001b[0;34m\u001b[0m\u001b[0;34m\u001b[0m\u001b[0;34m\u001b[0m\u001b[0m\n",
      "\u001b[0;31mNameError\u001b[0m: name 'post_preds' is not defined"
     ]
    }
   ],
   "source": [
    "#reconstruction\n",
    "U_preds = post_preds[0]\n",
    "recon1 = np.dot(U_preds*s_trunc, Vh_trunc)\n",
    "print(recon1.shape)\n",
    "#smat_trunc = np.diag(s_trunc)\n",
    "#recon2 = np.dot(U_preds, np.dot(smat_trunc, Vh_trunc))\n",
    "#print(recon1.shape, recon2.shape)"
   ]
  },
  {
   "cell_type": "code",
   "execution_count": 13,
   "metadata": {},
   "outputs": [
    {
     "data": {
      "text/plain": [
       "(46, 72)"
      ]
     },
     "execution_count": 13,
     "metadata": {},
     "output_type": "execute_result"
    }
   ],
   "source": [
    "lats = f.variables['lat'] # 46 lats\n",
    "lons = f.variables['lon'] # 72 lons\n",
    "#m[0,:]\n",
    "test = m==1\n",
    "test.shape\n",
    "#mlat = lats[m==1]"
   ]
  },
  {
   "cell_type": "code",
   "execution_count": 14,
   "metadata": {},
   "outputs": [],
   "source": [
    "### NOTE - THIS ISSUE IS SOLVED in SVD.ipynb\n",
    "# this doesn't work yet because reconstruction only includes land lat/lon (how to reshape globally, filling in mask?)\n",
    "#recon1_latlon = np.reshape(recon1, (nsamples, nlat, nlon))\n",
    "# could try starting SVD over with xarray - easier to subset land only (use np.isnan?)\n",
    "# from python tutorial:\n",
    "#inds = np.isnan(X) # this function can somehow be applied to reshape without nans\n",
    "#Y = X.sel(inds=True, drop=True)"
   ]
  },
  {
   "cell_type": "code",
   "execution_count": 15,
   "metadata": {},
   "outputs": [
    {
     "data": {
      "text/plain": [
       "(array([ 1.,  1.,  5., 20., 34., 45., 46., 29., 14.,  5.]),\n",
       " array([-2.6216054e-05, -2.5792335e-05, -2.5368614e-05, -2.4944893e-05,\n",
       "        -2.4521174e-05, -2.4097455e-05, -2.3673734e-05, -2.3250013e-05,\n",
       "        -2.2826294e-05, -2.2402575e-05, -2.1978854e-05], dtype=float32),\n",
       " <a list of 10 Patch objects>)"
      ]
     },
     "execution_count": 15,
     "metadata": {},
     "output_type": "execute_result"
    },
    {
     "data": {
      "image/png": "[encoded data removed]",
      "text/plain": [
       "<Figure size 432x288 with 1 Axes>"
      ]
     },
     "metadata": {
      "needs_background": "light"
     },
     "output_type": "display_data"
    }
   ],
   "source": [
    "#plt.contourf(recon1)\n",
    "plt.hist(recon1[:,0])"
   ]
  },
  {
   "cell_type": "code",
   "execution_count": 19,
   "metadata": {},
   "outputs": [],
   "source": [
    "#plt.hist(recon2[:,0])"
   ]
  },
  {
   "cell_type": "code",
   "execution_count": 20,
   "metadata": {},
   "outputs": [],
   "source": [
    "#diff = recon2 - recon1\n",
    "#plt.hist(diff[:,0]) # sufficiently small"
   ]
  },
  {
   "cell_type": "code",
   "execution_count": null,
   "metadata": {},
   "outputs": [],
   "source": []
  }
 ],
 "metadata": {
  "kernelspec": {
   "display_name": "Python (conda-analysis)",
   "language": "python",
   "name": "analysis"
  },
  "language_info": {
   "codemirror_mode": {
    "name": "ipython",
    "version": 3
   },
   "file_extension": ".py",
   "mimetype": "text/x-python",
   "name": "python",
   "nbconvert_exporter": "python",
   "pygments_lexer": "ipython3",
   "version": "3.7.3"
  }
 },
 "nbformat": 4,
 "nbformat_minor": 4
}
