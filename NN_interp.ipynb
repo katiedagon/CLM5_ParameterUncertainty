{
 "cells": [
  {
   "cell_type": "markdown",
   "metadata": {},
   "source": [
    "## Model Interpretation for the 2-layer multiple output Neural Network"
   ]
  },
  {
   "cell_type": "markdown",
   "metadata": {},
   "source": [
    "### Variable Importance"
   ]
  },
  {
   "cell_type": "markdown",
   "metadata": {},
   "source": [
    "Import some modules"
   ]
  },
  {
   "cell_type": "code",
   "execution_count": 43,
   "metadata": {},
   "outputs": [],
   "source": [
    "import numpy as np\n",
    "import matplotlib.pyplot as plt\n",
    "#from sklearn.metrics import brier_score_loss, roc_curve, roc_auc_score"
   ]
  },
  {
   "cell_type": "markdown",
   "metadata": {},
   "source": [
    "Read in input array"
   ]
  },
  {
   "cell_type": "code",
   "execution_count": 2,
   "metadata": {},
   "outputs": [],
   "source": [
    "inputdata = np.load(file=\"lhc_100.npy\", allow_pickle=True)"
   ]
  },
  {
   "cell_type": "markdown",
   "metadata": {},
   "source": [
    "List of input variables"
   ]
  },
  {
   "cell_type": "code",
   "execution_count": 3,
   "metadata": {},
   "outputs": [],
   "source": [
    "in_vars = ['medlynslope','dleaf','kmax','fff','dint','baseflow_scalar']\n",
    "npar = len(in_vars)"
   ]
  },
  {
   "cell_type": "markdown",
   "metadata": {},
   "source": [
    "Read in output array; calculated in SVD.py after processing in outputdata/process_outputdata_SVD.ncl"
   ]
  },
  {
   "cell_type": "code",
   "execution_count": 4,
   "metadata": {},
   "outputs": [],
   "source": [
    "outputdata_GPP = np.load(file=\"outputdata/outputdata_GPP_SVD_3modes.npy\",\n",
    "        allow_pickle=True)\n",
    "outputdata_LHF = np.load(file=\"outputdata/outputdata_LHF_SVD_3modes.npy\",\n",
    "        allow_pickle=True)\n",
    "nmodes = outputdata_GPP.shape[1]"
   ]
  },
  {
   "cell_type": "markdown",
   "metadata": {},
   "source": [
    "Import trained NN; save in NN_finalize_multi-dim.py"
   ]
  },
  {
   "cell_type": "code",
   "execution_count": 5,
   "metadata": {},
   "outputs": [
    {
     "name": "stderr",
     "output_type": "stream",
     "text": [
      "Using TensorFlow backend.\n"
     ]
    },
    {
     "name": "stdout",
     "output_type": "stream",
     "text": [
      "WARNING:tensorflow:From /gpfs/fs1/work/kdagon/ncar_pylib_clone_20190118/lib/python3.6/site-packages/tensorflow/python/framework/op_def_library.py:263: colocate_with (from tensorflow.python.framework.ops) is deprecated and will be removed in a future version.\n",
      "Instructions for updating:\n",
      "Colocations handled automatically by placer.\n",
      "WARNING:tensorflow:From /gpfs/fs1/work/kdagon/ncar_pylib_clone_20190118/lib/python3.6/site-packages/tensorflow/python/ops/math_ops.py:3066: to_int32 (from tensorflow.python.ops.math_ops) is deprecated and will be removed in a future version.\n",
      "Instructions for updating:\n",
      "Use tf.cast instead.\n"
     ]
    }
   ],
   "source": [
    "import keras.backend as K\n",
    "def mean_sq_err(y_true,y_pred):\n",
    "    return K.mean((y_true-y_pred)**2)\n",
    "from keras.models import load_model\n",
    "model_GPP = load_model('NN_GPP_finalize_multi-dim.h5', custom_objects={'mean_sq_err':\n",
    "    mean_sq_err})\n",
    "model_LHF = load_model('NN_LHF_finalize_multi-dim.h5',\n",
    "    custom_objects={'mean_sq_err': mean_sq_err})"
   ]
  },
  {
   "cell_type": "markdown",
   "metadata": {},
   "source": [
    "Test model predictions"
   ]
  },
  {
   "cell_type": "code",
   "execution_count": 6,
   "metadata": {},
   "outputs": [],
   "source": [
    "#model_preds_GPP = model_GPP.predict(inputdata)\n",
    "#model_preds_LHF = model_LHF.predict(inputdata)"
   ]
  },
  {
   "cell_type": "markdown",
   "metadata": {},
   "source": [
    "Define score for predictions"
   ]
  },
  {
   "cell_type": "code",
   "execution_count": 98,
   "metadata": {},
   "outputs": [],
   "source": [
    "def mse_preds(y_true,y_pred):\n",
    "    return np.mean((y_true-y_pred)**2, axis=0)"
   ]
  },
  {
   "cell_type": "code",
   "execution_count": 99,
   "metadata": {},
   "outputs": [
    {
     "data": {
      "text/plain": [
       "array([0.00058045, 0.00130422, 0.00193987], dtype=float32)"
      ]
     },
     "execution_count": 99,
     "metadata": {},
     "output_type": "execute_result"
    }
   ],
   "source": [
    "mse_preds(outputdata_GPP,model_preds_GPP)"
   ]
  },
  {
   "cell_type": "markdown",
   "metadata": {},
   "source": [
    "Define function for feature importance by shuffling"
   ]
  },
  {
   "cell_type": "code",
   "execution_count": 110,
   "metadata": {},
   "outputs": [],
   "source": [
    "def permutation_feature_importance(input_data, output_data, model, score=mse_preds):\n",
    "    model_preds = model.predict(input_data)\n",
    "    original_error = score(output_data, model_preds)\n",
    "    permuted_scores = np.zeros((input_data.shape[1], nmodes))\n",
    "    permuted_data = np.copy(input_data)\n",
    "    permuted_indices = np.arange(input_data.shape[0])\n",
    "    for c in range(input_data.shape[1]):\n",
    "        np.random.shuffle(permuted_indices)\n",
    "        permuted_data[:, c] = input_data[permuted_indices, c]\n",
    "        permuted_preds = model.predict(permuted_data)                                                                                                                     \n",
    "        permuted_scores[c, :] = score(output_data,permuted_preds)\n",
    "        permuted_data[:, c] = input_data[:, c]\n",
    "    return original_error, permuted_scores"
   ]
  },
  {
   "cell_type": "code",
   "execution_count": 109,
   "metadata": {},
   "outputs": [
    {
     "data": {
      "text/plain": [
       "(6, 3)"
      ]
     },
     "execution_count": 109,
     "metadata": {},
     "output_type": "execute_result"
    }
   ],
   "source": [
    "#permuted_indices = np.arange(inputdata.shape[0])\n",
    "#permuted_indices\n",
    "#np.random.shuffle(permuted_indices)\n",
    "#permuted_indices\n",
    "#permuted_scores = np.zeros((inputdata.shape[1], nmodes))\n",
    "#permuted_scores.shape"
   ]
  },
  {
   "cell_type": "markdown",
   "metadata": {},
   "source": [
    "Calculate feature importance"
   ]
  },
  {
   "cell_type": "code",
   "execution_count": 111,
   "metadata": {},
   "outputs": [],
   "source": [
    "gpp_original, gpp_permuted = permutation_feature_importance(inputdata,\n",
    "        outputdata_GPP, model_GPP)\n",
    "lhf_original, lhf_permuted = permutation_feature_importance(inputdata,\n",
    "        outputdata_LHF, model_LHF)"
   ]
  },
  {
   "cell_type": "code",
   "execution_count": 122,
   "metadata": {},
   "outputs": [
    {
     "name": "stdout",
     "output_type": "stream",
     "text": [
      "[0.00058045 0.00130422 0.00193987] [[0.00154732 0.01589729 0.0064385 ]\n",
      " [0.00074672 0.00141823 0.00243282]\n",
      " [0.01773269 0.00196099 0.00398924]\n",
      " [0.0006034  0.00501453 0.00765691]\n",
      " [0.0006484  0.00225628 0.00335034]\n",
      " [0.00064302 0.0014006  0.00205429]]\n"
     ]
    },
    {
     "data": {
      "text/plain": [
       "6"
      ]
     },
     "execution_count": 122,
     "metadata": {},
     "output_type": "execute_result"
    }
   ],
   "source": [
    "#print(gpp_original, gpp_permuted)\n",
    "#gpp_permuted.shape[0]\n",
    "#gpp_original[1]"
   ]
  },
  {
   "cell_type": "code",
   "execution_count": 130,
   "metadata": {},
   "outputs": [
    {
     "name": "stdout",
     "output_type": "stream",
     "text": [
      "EOF2 GPP MSE\n"
     ]
    },
    {
     "data": {
      "text/plain": [
       "range(0, 3)"
      ]
     },
     "execution_count": 130,
     "metadata": {},
     "output_type": "execute_result"
    }
   ],
   "source": [
    "#m=2\n",
    "#print(\"EOF%i GPP MSE\" %m) \n",
    "#range(nmodes)"
   ]
  },
  {
   "cell_type": "markdown",
   "metadata": {},
   "source": [
    "Plot importance (larger bar is more important)"
   ]
  },
  {
   "cell_type": "code",
   "execution_count": 140,
   "metadata": {},
   "outputs": [
    {
     "data": {
      "image/png": "[encoded data removed]",
      "text/plain": [
       "<Figure size 864x360 with 2 Axes>"
      ]
     },
     "metadata": {
      "needs_background": "light"
     },
     "output_type": "display_data"
    },
    {
     "data": {
      "image/png": "[encoded data removed]",
      "text/plain": [
       "<Figure size 864x360 with 2 Axes>"
      ]
     },
     "metadata": {
      "needs_background": "light"
     },
     "output_type": "display_data"
    },
    {
     "data": {
      "image/png": "[encoded data removed]",
      "text/plain": [
       "<Figure size 864x360 with 2 Axes>"
      ]
     },
     "metadata": {
      "needs_background": "light"
     },
     "output_type": "display_data"
    }
   ],
   "source": [
    "for m in range(nmodes):\n",
    "    plt.figure(figsize=(12, 5))\n",
    "    plt.subplots_adjust(wspace=0.4)\n",
    "    plt.subplot(1, 2, 1)\n",
    "    plt.barh(np.arange(gpp_permuted.shape[0]), gpp_permuted[:,m])\n",
    "    plt.barh(gpp_permuted.shape[0], gpp_original[m])\n",
    "    plt.yticks(np.arange(gpp_permuted.shape[0] + 1),\n",
    "        in_vars + [\"GPP Original\"])\n",
    "    mode=m+1\n",
    "    plt.title(\"EOF%i GPP MSE\" %mode)\n",
    "    plt.subplot(1, 2, 2)\n",
    "    plt.barh(np.arange(lhf_permuted.shape[0]), lhf_permuted[:,m])\n",
    "    plt.barh(lhf_permuted.shape[0], lhf_original[m])\n",
    "    plt.yticks(np.arange(lhf_permuted.shape[0] + 1),\n",
    "        in_vars + [\"LHF Original\"])\n",
    "    plt.title(\"EOF%i LHF MSE\" %mode)    \n",
    "    plt.savefig('variable_importance_GPP_LHF_SVD_mode%i.pdf' %mode)"
   ]
  },
  {
   "cell_type": "markdown",
   "metadata": {},
   "source": [
    "Try defining feature importance by setting one parameter at a time to fixed scaling value (instead of random shuffling existing values)"
   ]
  },
  {
   "cell_type": "code",
   "execution_count": 135,
   "metadata": {},
   "outputs": [],
   "source": [
    "def permutation_feature_importance_v2(input_data, output_data, model, score=mse_preds):\n",
    "    model_preds = model.predict(input_data)\n",
    "    original_error = score(output_data, model_preds)\n",
    "    permuted_scores = np.zeros((input_data.shape[1], nmodes))\n",
    "    permuted_data = np.copy(input_data)\n",
    "    for c in range(input_data.shape[1]):\n",
    "        permuted_data[:, c] = 0.5*np.ones(input_data.shape[0])\n",
    "        permuted_preds = model.predict(permuted_data)                                                                                                                     \n",
    "        permuted_scores[c, :] = score(output_data,permuted_preds)\n",
    "        permuted_data[:, c] = input_data[:, c]\n",
    "    return original_error, permuted_scores"
   ]
  },
  {
   "cell_type": "code",
   "execution_count": 136,
   "metadata": {},
   "outputs": [],
   "source": [
    "gpp_original_v2, gpp_permuted_v2 = permutation_feature_importance_v2(inputdata,\n",
    "        outputdata_GPP, model_GPP)\n",
    "lhf_original_v2, lhf_permuted_v2 = permutation_feature_importance_v2(inputdata,\n",
    "        outputdata_LHF, model_LHF)"
   ]
  },
  {
   "cell_type": "code",
   "execution_count": 88,
   "metadata": {},
   "outputs": [
    {
     "name": "stdout",
     "output_type": "stream",
     "text": [
      "0.0012748478 [0.00484099 0.00145936 0.00602918 0.00356778 0.00187134 0.00131099]\n"
     ]
    }
   ],
   "source": [
    "print(gpp_original_v2, gpp_permuted_v2)"
   ]
  },
  {
   "cell_type": "code",
   "execution_count": 137,
   "metadata": {},
   "outputs": [
    {
     "data": {
      "image/png": "[encoded data removed]",
      "text/plain": [
       "<Figure size 864x360 with 2 Axes>"
      ]
     },
     "metadata": {
      "needs_background": "light"
     },
     "output_type": "display_data"
    },
    {
     "data": {
      "image/png": "[encoded data removed]",
      "text/plain": [
       "<Figure size 864x360 with 2 Axes>"
      ]
     },
     "metadata": {
      "needs_background": "light"
     },
     "output_type": "display_data"
    },
    {
     "data": {
      "image/png": "[encoded data removed]",
      "text/plain": [
       "<Figure size 864x360 with 2 Axes>"
      ]
     },
     "metadata": {
      "needs_background": "light"
     },
     "output_type": "display_data"
    }
   ],
   "source": [
    "for m in range(nmodes):\n",
    "    plt.figure(figsize=(12, 5))\n",
    "    plt.subplots_adjust(wspace=0.4)\n",
    "    plt.subplot(1, 2, 1)\n",
    "    plt.barh(np.arange(gpp_permuted_v2.shape[0]), gpp_permuted_v2[:,m])\n",
    "    plt.barh(gpp_permuted_v2.shape[0], gpp_original_v2[m])\n",
    "    plt.yticks(np.arange(gpp_permuted_v2.shape[0] + 1),\n",
    "        in_vars + [\"GPP Original\"])\n",
    "    mode=m+1\n",
    "    plt.title(\"EOF%i GPP MSE\" %mode)\n",
    "    plt.subplot(1, 2, 2)\n",
    "    plt.barh(np.arange(lhf_permuted_v2.shape[0]), lhf_permuted_v2[:,m])\n",
    "    plt.barh(lhf_permuted_v2.shape[0], lhf_original_v2[m])\n",
    "    plt.yticks(np.arange(lhf_permuted_v2.shape[0] + 1),\n",
    "        in_vars + [\"LHF Original\"])\n",
    "    plt.title(\"EOF%i LHF MSE\" %mode)"
   ]
  },
  {
   "cell_type": "markdown",
   "metadata": {},
   "source": [
    "### NEXT: fix 5 parameters and vary one at a time. Results should be different; test parameter interactions (nonlinearities)"
   ]
  },
  {
   "cell_type": "code",
   "execution_count": null,
   "metadata": {},
   "outputs": [],
   "source": []
  }
 ],
 "metadata": {
  "kernelspec": {
   "display_name": "Python (KDenv)",
   "language": "python",
   "name": "kdenv"
  },
  "language_info": {
   "codemirror_mode": {
    "name": "ipython",
    "version": 3
   },
   "file_extension": ".py",
   "mimetype": "text/x-python",
   "name": "python",
   "nbconvert_exporter": "python",
   "pygments_lexer": "ipython3",
   "version": "3.6.8"
  }
 },
 "nbformat": 4,
 "nbformat_minor": 2
}
