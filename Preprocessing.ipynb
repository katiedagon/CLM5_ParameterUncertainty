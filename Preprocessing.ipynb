{
 "cells": [
  {
   "cell_type": "markdown",
   "metadata": {},
   "source": [
    "# Workflow for pre-processing data for machine learning"
   ]
  },
  {
   "cell_type": "markdown",
   "metadata": {},
   "source": [
    "### Import modules"
   ]
  },
  {
   "cell_type": "code",
   "execution_count": 63,
   "metadata": {},
   "outputs": [],
   "source": [
    "%matplotlib inline\n",
    "import xarray as xr"
   ]
  },
  {
   "cell_type": "markdown",
   "metadata": {},
   "source": [
    "### Process CLM output from PPE for SVD"
   ]
  },
  {
   "cell_type": "markdown",
   "metadata": {},
   "source": [
    "Set number of ensemble members"
   ]
  },
  {
   "cell_type": "code",
   "execution_count": 61,
   "metadata": {},
   "outputs": [],
   "source": [
    "niter = 100"
   ]
  },
  {
   "cell_type": "markdown",
   "metadata": {},
   "source": [
    "Set output path and PPE specification"
   ]
  },
  {
   "cell_type": "code",
   "execution_count": 62,
   "metadata": {},
   "outputs": [],
   "source": [
    "path = \"/glade/scratch/kdagon/archive/\"\n",
    "PPE = \"hydro_ensemble_LHC_\""
   ]
  },
  {
   "cell_type": "markdown",
   "metadata": {},
   "source": [
    "Set output variables of interest"
   ]
  },
  {
   "cell_type": "code",
   "execution_count": 64,
   "metadata": {},
   "outputs": [],
   "source": [
    "var = ['FPSN', 'EFLX_LH_TOT']"
   ]
  },
  {
   "cell_type": "markdown",
   "metadata": {},
   "source": [
    "Read in datamask from regridded observations file\\\n",
    "(Currently obs sampling and regridding is done in NCL files)"
   ]
  },
  {
   "cell_type": "code",
   "execution_count": 65,
   "metadata": {},
   "outputs": [],
   "source": [
    "da_obs = xr.open_dataset(\"obs/MR_GPP_4x5_2000_2004.nc\")"
   ]
  },
  {
   "cell_type": "code",
   "execution_count": 66,
   "metadata": {},
   "outputs": [],
   "source": [
    "dm_obs = da_obs.datamask"
   ]
  },
  {
   "cell_type": "code",
   "execution_count": 23,
   "metadata": {},
   "outputs": [
    {
     "data": {
      "text/plain": [
       "<matplotlib.collections.QuadMesh at 0x2b506e27dcf8>"
      ]
     },
     "execution_count": 23,
     "metadata": {},
     "output_type": "execute_result"
    },
    {
     "data": {
      "image/png": "[encoded data removed]",
      "text/plain": [
       "<Figure size 432x288 with 2 Axes>"
      ]
     },
     "metadata": {
      "needs_background": "light"
     },
     "output_type": "display_data"
    }
   ],
   "source": [
    "dm_obs.plot()"
   ]
  },
  {
   "cell_type": "markdown",
   "metadata": {},
   "source": [
    "Read in CLM PPE output"
   ]
  },
  {
   "cell_type": "code",
   "execution_count": 32,
   "metadata": {},
   "outputs": [
    {
     "name": "stdout",
     "output_type": "stream",
     "text": [
      "[1, 2, 3, 4, 5, 6, 7, 8, 9, 10, 11, 12, 13, 14, 15, 16, 17, 18, 19, 20, 21, 22, 23, 24, 25, 26, 27, 28, 29, 30, 31, 32, 33, 34, 35, 36, 37, 38, 39, 40, 41, 42, 43, 44, 45, 46, 47, 48, 49, 50, 51, 52, 53, 54, 55, 56, 57, 58, 59, 60, 61, 62, 63, 64, 65, 66, 67, 68, 69, 70, 71, 72, 73, 74, 75, 76, 77, 78, 79, 80, 81, 82, 83, 84, 85, 86, 87, 88, 89, 90, 91, 92, 93, 94, 95, 96, 97, 98, 99, 100]\n"
     ]
    }
   ],
   "source": [
    "#em = [i+1 for i in range(niter)]\n",
    "#print(em)"
   ]
  },
  {
   "cell_type": "code",
   "execution_count": 67,
   "metadata": {},
   "outputs": [
    {
     "data": {
      "text/plain": [
       "['/glade/scratch/kdagon/archive/hydro_ensemble_LHC_1/lnd/hist/*{001[6-9],20-}*',\n",
       " '/glade/scratch/kdagon/archive/hydro_ensemble_LHC_2/lnd/hist/*{001[6-9],20-}*',\n",
       " '/glade/scratch/kdagon/archive/hydro_ensemble_LHC_3/lnd/hist/*{001[6-9],20-}*',\n",
       " '/glade/scratch/kdagon/archive/hydro_ensemble_LHC_4/lnd/hist/*{001[6-9],20-}*',\n",
       " '/glade/scratch/kdagon/archive/hydro_ensemble_LHC_5/lnd/hist/*{001[6-9],20-}*',\n",
       " '/glade/scratch/kdagon/archive/hydro_ensemble_LHC_6/lnd/hist/*{001[6-9],20-}*',\n",
       " '/glade/scratch/kdagon/archive/hydro_ensemble_LHC_7/lnd/hist/*{001[6-9],20-}*',\n",
       " '/glade/scratch/kdagon/archive/hydro_ensemble_LHC_8/lnd/hist/*{001[6-9],20-}*',\n",
       " '/glade/scratch/kdagon/archive/hydro_ensemble_LHC_9/lnd/hist/*{001[6-9],20-}*',\n",
       " '/glade/scratch/kdagon/archive/hydro_ensemble_LHC_10/lnd/hist/*{001[6-9],20-}*',\n",
       " '/glade/scratch/kdagon/archive/hydro_ensemble_LHC_11/lnd/hist/*{001[6-9],20-}*',\n",
       " '/glade/scratch/kdagon/archive/hydro_ensemble_LHC_12/lnd/hist/*{001[6-9],20-}*',\n",
       " '/glade/scratch/kdagon/archive/hydro_ensemble_LHC_13/lnd/hist/*{001[6-9],20-}*',\n",
       " '/glade/scratch/kdagon/archive/hydro_ensemble_LHC_14/lnd/hist/*{001[6-9],20-}*',\n",
       " '/glade/scratch/kdagon/archive/hydro_ensemble_LHC_15/lnd/hist/*{001[6-9],20-}*',\n",
       " '/glade/scratch/kdagon/archive/hydro_ensemble_LHC_16/lnd/hist/*{001[6-9],20-}*',\n",
       " '/glade/scratch/kdagon/archive/hydro_ensemble_LHC_17/lnd/hist/*{001[6-9],20-}*',\n",
       " '/glade/scratch/kdagon/archive/hydro_ensemble_LHC_18/lnd/hist/*{001[6-9],20-}*',\n",
       " '/glade/scratch/kdagon/archive/hydro_ensemble_LHC_19/lnd/hist/*{001[6-9],20-}*',\n",
       " '/glade/scratch/kdagon/archive/hydro_ensemble_LHC_20/lnd/hist/*{001[6-9],20-}*',\n",
       " '/glade/scratch/kdagon/archive/hydro_ensemble_LHC_21/lnd/hist/*{001[6-9],20-}*',\n",
       " '/glade/scratch/kdagon/archive/hydro_ensemble_LHC_22/lnd/hist/*{001[6-9],20-}*',\n",
       " '/glade/scratch/kdagon/archive/hydro_ensemble_LHC_23/lnd/hist/*{001[6-9],20-}*',\n",
       " '/glade/scratch/kdagon/archive/hydro_ensemble_LHC_24/lnd/hist/*{001[6-9],20-}*',\n",
       " '/glade/scratch/kdagon/archive/hydro_ensemble_LHC_25/lnd/hist/*{001[6-9],20-}*',\n",
       " '/glade/scratch/kdagon/archive/hydro_ensemble_LHC_26/lnd/hist/*{001[6-9],20-}*',\n",
       " '/glade/scratch/kdagon/archive/hydro_ensemble_LHC_27/lnd/hist/*{001[6-9],20-}*',\n",
       " '/glade/scratch/kdagon/archive/hydro_ensemble_LHC_28/lnd/hist/*{001[6-9],20-}*',\n",
       " '/glade/scratch/kdagon/archive/hydro_ensemble_LHC_29/lnd/hist/*{001[6-9],20-}*',\n",
       " '/glade/scratch/kdagon/archive/hydro_ensemble_LHC_30/lnd/hist/*{001[6-9],20-}*',\n",
       " '/glade/scratch/kdagon/archive/hydro_ensemble_LHC_31/lnd/hist/*{001[6-9],20-}*',\n",
       " '/glade/scratch/kdagon/archive/hydro_ensemble_LHC_32/lnd/hist/*{001[6-9],20-}*',\n",
       " '/glade/scratch/kdagon/archive/hydro_ensemble_LHC_33/lnd/hist/*{001[6-9],20-}*',\n",
       " '/glade/scratch/kdagon/archive/hydro_ensemble_LHC_34/lnd/hist/*{001[6-9],20-}*',\n",
       " '/glade/scratch/kdagon/archive/hydro_ensemble_LHC_35/lnd/hist/*{001[6-9],20-}*',\n",
       " '/glade/scratch/kdagon/archive/hydro_ensemble_LHC_36/lnd/hist/*{001[6-9],20-}*',\n",
       " '/glade/scratch/kdagon/archive/hydro_ensemble_LHC_37/lnd/hist/*{001[6-9],20-}*',\n",
       " '/glade/scratch/kdagon/archive/hydro_ensemble_LHC_38/lnd/hist/*{001[6-9],20-}*',\n",
       " '/glade/scratch/kdagon/archive/hydro_ensemble_LHC_39/lnd/hist/*{001[6-9],20-}*',\n",
       " '/glade/scratch/kdagon/archive/hydro_ensemble_LHC_40/lnd/hist/*{001[6-9],20-}*',\n",
       " '/glade/scratch/kdagon/archive/hydro_ensemble_LHC_41/lnd/hist/*{001[6-9],20-}*',\n",
       " '/glade/scratch/kdagon/archive/hydro_ensemble_LHC_42/lnd/hist/*{001[6-9],20-}*',\n",
       " '/glade/scratch/kdagon/archive/hydro_ensemble_LHC_43/lnd/hist/*{001[6-9],20-}*',\n",
       " '/glade/scratch/kdagon/archive/hydro_ensemble_LHC_44/lnd/hist/*{001[6-9],20-}*',\n",
       " '/glade/scratch/kdagon/archive/hydro_ensemble_LHC_45/lnd/hist/*{001[6-9],20-}*',\n",
       " '/glade/scratch/kdagon/archive/hydro_ensemble_LHC_46/lnd/hist/*{001[6-9],20-}*',\n",
       " '/glade/scratch/kdagon/archive/hydro_ensemble_LHC_47/lnd/hist/*{001[6-9],20-}*',\n",
       " '/glade/scratch/kdagon/archive/hydro_ensemble_LHC_48/lnd/hist/*{001[6-9],20-}*',\n",
       " '/glade/scratch/kdagon/archive/hydro_ensemble_LHC_49/lnd/hist/*{001[6-9],20-}*',\n",
       " '/glade/scratch/kdagon/archive/hydro_ensemble_LHC_50/lnd/hist/*{001[6-9],20-}*',\n",
       " '/glade/scratch/kdagon/archive/hydro_ensemble_LHC_51/lnd/hist/*{001[6-9],20-}*',\n",
       " '/glade/scratch/kdagon/archive/hydro_ensemble_LHC_52/lnd/hist/*{001[6-9],20-}*',\n",
       " '/glade/scratch/kdagon/archive/hydro_ensemble_LHC_53/lnd/hist/*{001[6-9],20-}*',\n",
       " '/glade/scratch/kdagon/archive/hydro_ensemble_LHC_54/lnd/hist/*{001[6-9],20-}*',\n",
       " '/glade/scratch/kdagon/archive/hydro_ensemble_LHC_55/lnd/hist/*{001[6-9],20-}*',\n",
       " '/glade/scratch/kdagon/archive/hydro_ensemble_LHC_56/lnd/hist/*{001[6-9],20-}*',\n",
       " '/glade/scratch/kdagon/archive/hydro_ensemble_LHC_57/lnd/hist/*{001[6-9],20-}*',\n",
       " '/glade/scratch/kdagon/archive/hydro_ensemble_LHC_58/lnd/hist/*{001[6-9],20-}*',\n",
       " '/glade/scratch/kdagon/archive/hydro_ensemble_LHC_59/lnd/hist/*{001[6-9],20-}*',\n",
       " '/glade/scratch/kdagon/archive/hydro_ensemble_LHC_60/lnd/hist/*{001[6-9],20-}*',\n",
       " '/glade/scratch/kdagon/archive/hydro_ensemble_LHC_61/lnd/hist/*{001[6-9],20-}*',\n",
       " '/glade/scratch/kdagon/archive/hydro_ensemble_LHC_62/lnd/hist/*{001[6-9],20-}*',\n",
       " '/glade/scratch/kdagon/archive/hydro_ensemble_LHC_63/lnd/hist/*{001[6-9],20-}*',\n",
       " '/glade/scratch/kdagon/archive/hydro_ensemble_LHC_64/lnd/hist/*{001[6-9],20-}*',\n",
       " '/glade/scratch/kdagon/archive/hydro_ensemble_LHC_65/lnd/hist/*{001[6-9],20-}*',\n",
       " '/glade/scratch/kdagon/archive/hydro_ensemble_LHC_66/lnd/hist/*{001[6-9],20-}*',\n",
       " '/glade/scratch/kdagon/archive/hydro_ensemble_LHC_67/lnd/hist/*{001[6-9],20-}*',\n",
       " '/glade/scratch/kdagon/archive/hydro_ensemble_LHC_68/lnd/hist/*{001[6-9],20-}*',\n",
       " '/glade/scratch/kdagon/archive/hydro_ensemble_LHC_69/lnd/hist/*{001[6-9],20-}*',\n",
       " '/glade/scratch/kdagon/archive/hydro_ensemble_LHC_70/lnd/hist/*{001[6-9],20-}*',\n",
       " '/glade/scratch/kdagon/archive/hydro_ensemble_LHC_71/lnd/hist/*{001[6-9],20-}*',\n",
       " '/glade/scratch/kdagon/archive/hydro_ensemble_LHC_72/lnd/hist/*{001[6-9],20-}*',\n",
       " '/glade/scratch/kdagon/archive/hydro_ensemble_LHC_73/lnd/hist/*{001[6-9],20-}*',\n",
       " '/glade/scratch/kdagon/archive/hydro_ensemble_LHC_74/lnd/hist/*{001[6-9],20-}*',\n",
       " '/glade/scratch/kdagon/archive/hydro_ensemble_LHC_75/lnd/hist/*{001[6-9],20-}*',\n",
       " '/glade/scratch/kdagon/archive/hydro_ensemble_LHC_76/lnd/hist/*{001[6-9],20-}*',\n",
       " '/glade/scratch/kdagon/archive/hydro_ensemble_LHC_77/lnd/hist/*{001[6-9],20-}*',\n",
       " '/glade/scratch/kdagon/archive/hydro_ensemble_LHC_78/lnd/hist/*{001[6-9],20-}*',\n",
       " '/glade/scratch/kdagon/archive/hydro_ensemble_LHC_79/lnd/hist/*{001[6-9],20-}*',\n",
       " '/glade/scratch/kdagon/archive/hydro_ensemble_LHC_80/lnd/hist/*{001[6-9],20-}*',\n",
       " '/glade/scratch/kdagon/archive/hydro_ensemble_LHC_81/lnd/hist/*{001[6-9],20-}*',\n",
       " '/glade/scratch/kdagon/archive/hydro_ensemble_LHC_82/lnd/hist/*{001[6-9],20-}*',\n",
       " '/glade/scratch/kdagon/archive/hydro_ensemble_LHC_83/lnd/hist/*{001[6-9],20-}*',\n",
       " '/glade/scratch/kdagon/archive/hydro_ensemble_LHC_84/lnd/hist/*{001[6-9],20-}*',\n",
       " '/glade/scratch/kdagon/archive/hydro_ensemble_LHC_85/lnd/hist/*{001[6-9],20-}*',\n",
       " '/glade/scratch/kdagon/archive/hydro_ensemble_LHC_86/lnd/hist/*{001[6-9],20-}*',\n",
       " '/glade/scratch/kdagon/archive/hydro_ensemble_LHC_87/lnd/hist/*{001[6-9],20-}*',\n",
       " '/glade/scratch/kdagon/archive/hydro_ensemble_LHC_88/lnd/hist/*{001[6-9],20-}*',\n",
       " '/glade/scratch/kdagon/archive/hydro_ensemble_LHC_89/lnd/hist/*{001[6-9],20-}*',\n",
       " '/glade/scratch/kdagon/archive/hydro_ensemble_LHC_90/lnd/hist/*{001[6-9],20-}*',\n",
       " '/glade/scratch/kdagon/archive/hydro_ensemble_LHC_91/lnd/hist/*{001[6-9],20-}*',\n",
       " '/glade/scratch/kdagon/archive/hydro_ensemble_LHC_92/lnd/hist/*{001[6-9],20-}*',\n",
       " '/glade/scratch/kdagon/archive/hydro_ensemble_LHC_93/lnd/hist/*{001[6-9],20-}*',\n",
       " '/glade/scratch/kdagon/archive/hydro_ensemble_LHC_94/lnd/hist/*{001[6-9],20-}*',\n",
       " '/glade/scratch/kdagon/archive/hydro_ensemble_LHC_95/lnd/hist/*{001[6-9],20-}*',\n",
       " '/glade/scratch/kdagon/archive/hydro_ensemble_LHC_96/lnd/hist/*{001[6-9],20-}*',\n",
       " '/glade/scratch/kdagon/archive/hydro_ensemble_LHC_97/lnd/hist/*{001[6-9],20-}*',\n",
       " '/glade/scratch/kdagon/archive/hydro_ensemble_LHC_98/lnd/hist/*{001[6-9],20-}*',\n",
       " '/glade/scratch/kdagon/archive/hydro_ensemble_LHC_99/lnd/hist/*{001[6-9],20-}*',\n",
       " '/glade/scratch/kdagon/archive/hydro_ensemble_LHC_100/lnd/hist/*{001[6-9],20-}*']"
      ]
     },
     "execution_count": 67,
     "metadata": {},
     "output_type": "execute_result"
    }
   ],
   "source": [
    "full_paths = [path+PPE+str(i+1)+\"/lnd/hist/*{001[6-9],20-}*\" for i in range(niter)]\n",
    "full_paths"
   ]
  },
  {
   "cell_type": "code",
   "execution_count": 71,
   "metadata": {},
   "outputs": [
    {
     "data": {
      "text/plain": [
       "'/glade/scratch/kdagon/archive/hydro_ensemble_LHC_1/lnd/hist/*{001[6-9],20-}*'"
      ]
     },
     "execution_count": 71,
     "metadata": {},
     "output_type": "execute_result"
    }
   ],
   "source": [
    "#import glob\n",
    "#full_paths[0]\n",
    "#glob.glob(full_paths[0])\n",
    "import os\n",
    "#os.path.expanduser(full_paths[0])\n",
    "full_paths[0]\n",
    "#full_list = [glob.glob(full_paths[i]) for i in range(niter)]\n",
    "#full_list"
   ]
  },
  {
   "cell_type": "code",
   "execution_count": 43,
   "metadata": {},
   "outputs": [
    {
     "ename": "FileNotFoundError",
     "evalue": "[Errno 2] No such file or directory: b'/glade/scratch/kdagon/archive/hydro_ensemble_LHC_1/lnd/hist/*{001[6-9],20-}*'",
     "output_type": "error",
     "traceback": [
      "\u001b[0;31m---------------------------------------------------------------------------\u001b[0m",
      "\u001b[0;31mKeyError\u001b[0m                                  Traceback (most recent call last)",
      "\u001b[0;32m/glade/work/kdagon/miniconda/envs/analysis/lib/python3.7/site-packages/xarray/backends/file_manager.py\u001b[0m in \u001b[0;36m_acquire_with_cache_info\u001b[0;34m(self, needs_lock)\u001b[0m\n\u001b[1;32m    185\u001b[0m             \u001b[0;32mtry\u001b[0m\u001b[0;34m:\u001b[0m\u001b[0;34m\u001b[0m\u001b[0;34m\u001b[0m\u001b[0m\n\u001b[0;32m--> 186\u001b[0;31m                 \u001b[0mfile\u001b[0m \u001b[0;34m=\u001b[0m \u001b[0mself\u001b[0m\u001b[0;34m.\u001b[0m\u001b[0m_cache\u001b[0m\u001b[0;34m[\u001b[0m\u001b[0mself\u001b[0m\u001b[0;34m.\u001b[0m\u001b[0m_key\u001b[0m\u001b[0;34m]\u001b[0m\u001b[0;34m\u001b[0m\u001b[0;34m\u001b[0m\u001b[0m\n\u001b[0m\u001b[1;32m    187\u001b[0m             \u001b[0;32mexcept\u001b[0m \u001b[0mKeyError\u001b[0m\u001b[0;34m:\u001b[0m\u001b[0;34m\u001b[0m\u001b[0;34m\u001b[0m\u001b[0m\n",
      "\u001b[0;32m/glade/work/kdagon/miniconda/envs/analysis/lib/python3.7/site-packages/xarray/backends/lru_cache.py\u001b[0m in \u001b[0;36m__getitem__\u001b[0;34m(self, key)\u001b[0m\n\u001b[1;32m     41\u001b[0m         \u001b[0;32mwith\u001b[0m \u001b[0mself\u001b[0m\u001b[0;34m.\u001b[0m\u001b[0m_lock\u001b[0m\u001b[0;34m:\u001b[0m\u001b[0;34m\u001b[0m\u001b[0;34m\u001b[0m\u001b[0m\n\u001b[0;32m---> 42\u001b[0;31m             \u001b[0mvalue\u001b[0m \u001b[0;34m=\u001b[0m \u001b[0mself\u001b[0m\u001b[0;34m.\u001b[0m\u001b[0m_cache\u001b[0m\u001b[0;34m[\u001b[0m\u001b[0mkey\u001b[0m\u001b[0;34m]\u001b[0m\u001b[0;34m\u001b[0m\u001b[0;34m\u001b[0m\u001b[0m\n\u001b[0m\u001b[1;32m     43\u001b[0m             \u001b[0mself\u001b[0m\u001b[0;34m.\u001b[0m\u001b[0m_cache\u001b[0m\u001b[0;34m.\u001b[0m\u001b[0mmove_to_end\u001b[0m\u001b[0;34m(\u001b[0m\u001b[0mkey\u001b[0m\u001b[0;34m)\u001b[0m\u001b[0;34m\u001b[0m\u001b[0;34m\u001b[0m\u001b[0m\n",
      "\u001b[0;31mKeyError\u001b[0m: [<class 'netCDF4._netCDF4.Dataset'>, ('/glade/scratch/kdagon/archive/hydro_ensemble_LHC_1/lnd/hist/*{001[6-9],20-}*',), 'r', (('clobber', True), ('diskless', False), ('format', 'NETCDF4'), ('persist', False))]",
      "\nDuring handling of the above exception, another exception occurred:\n",
      "\u001b[0;31mFileNotFoundError\u001b[0m                         Traceback (most recent call last)",
      "\u001b[0;32m<ipython-input-43-8c73b6467ce3>\u001b[0m in \u001b[0;36m<module>\u001b[0;34m\u001b[0m\n\u001b[0;32m----> 1\u001b[0;31m \u001b[0mda_model\u001b[0m \u001b[0;34m=\u001b[0m \u001b[0mxr\u001b[0m\u001b[0;34m.\u001b[0m\u001b[0mopen_mfdataset\u001b[0m\u001b[0;34m(\u001b[0m\u001b[0mfull_paths\u001b[0m\u001b[0;34m)\u001b[0m\u001b[0;34m\u001b[0m\u001b[0;34m\u001b[0m\u001b[0m\n\u001b[0m",
      "\u001b[0;32m/glade/work/kdagon/miniconda/envs/analysis/lib/python3.7/site-packages/xarray/backends/api.py\u001b[0m in \u001b[0;36mopen_mfdataset\u001b[0;34m(paths, chunks, concat_dim, compat, preprocess, engine, lock, data_vars, coords, combine, autoclose, parallel, **kwargs)\u001b[0m\n\u001b[1;32m    764\u001b[0m         \u001b[0mgetattr_\u001b[0m \u001b[0;34m=\u001b[0m \u001b[0mgetattr\u001b[0m\u001b[0;34m\u001b[0m\u001b[0;34m\u001b[0m\u001b[0m\n\u001b[1;32m    765\u001b[0m \u001b[0;34m\u001b[0m\u001b[0m\n\u001b[0;32m--> 766\u001b[0;31m     \u001b[0mdatasets\u001b[0m \u001b[0;34m=\u001b[0m \u001b[0;34m[\u001b[0m\u001b[0mopen_\u001b[0m\u001b[0;34m(\u001b[0m\u001b[0mp\u001b[0m\u001b[0;34m,\u001b[0m \u001b[0;34m**\u001b[0m\u001b[0mopen_kwargs\u001b[0m\u001b[0;34m)\u001b[0m \u001b[0;32mfor\u001b[0m \u001b[0mp\u001b[0m \u001b[0;32min\u001b[0m \u001b[0mpaths\u001b[0m\u001b[0;34m]\u001b[0m\u001b[0;34m\u001b[0m\u001b[0;34m\u001b[0m\u001b[0m\n\u001b[0m\u001b[1;32m    767\u001b[0m     \u001b[0mfile_objs\u001b[0m \u001b[0;34m=\u001b[0m \u001b[0;34m[\u001b[0m\u001b[0mgetattr_\u001b[0m\u001b[0;34m(\u001b[0m\u001b[0mds\u001b[0m\u001b[0;34m,\u001b[0m \u001b[0;34m'_file_obj'\u001b[0m\u001b[0;34m)\u001b[0m \u001b[0;32mfor\u001b[0m \u001b[0mds\u001b[0m \u001b[0;32min\u001b[0m \u001b[0mdatasets\u001b[0m\u001b[0;34m]\u001b[0m\u001b[0;34m\u001b[0m\u001b[0;34m\u001b[0m\u001b[0m\n\u001b[1;32m    768\u001b[0m     \u001b[0;32mif\u001b[0m \u001b[0mpreprocess\u001b[0m \u001b[0;32mis\u001b[0m \u001b[0;32mnot\u001b[0m \u001b[0;32mNone\u001b[0m\u001b[0;34m:\u001b[0m\u001b[0;34m\u001b[0m\u001b[0;34m\u001b[0m\u001b[0m\n",
      "\u001b[0;32m/glade/work/kdagon/miniconda/envs/analysis/lib/python3.7/site-packages/xarray/backends/api.py\u001b[0m in \u001b[0;36m<listcomp>\u001b[0;34m(.0)\u001b[0m\n\u001b[1;32m    764\u001b[0m         \u001b[0mgetattr_\u001b[0m \u001b[0;34m=\u001b[0m \u001b[0mgetattr\u001b[0m\u001b[0;34m\u001b[0m\u001b[0;34m\u001b[0m\u001b[0m\n\u001b[1;32m    765\u001b[0m \u001b[0;34m\u001b[0m\u001b[0m\n\u001b[0;32m--> 766\u001b[0;31m     \u001b[0mdatasets\u001b[0m \u001b[0;34m=\u001b[0m \u001b[0;34m[\u001b[0m\u001b[0mopen_\u001b[0m\u001b[0;34m(\u001b[0m\u001b[0mp\u001b[0m\u001b[0;34m,\u001b[0m \u001b[0;34m**\u001b[0m\u001b[0mopen_kwargs\u001b[0m\u001b[0;34m)\u001b[0m \u001b[0;32mfor\u001b[0m \u001b[0mp\u001b[0m \u001b[0;32min\u001b[0m \u001b[0mpaths\u001b[0m\u001b[0;34m]\u001b[0m\u001b[0;34m\u001b[0m\u001b[0;34m\u001b[0m\u001b[0m\n\u001b[0m\u001b[1;32m    767\u001b[0m     \u001b[0mfile_objs\u001b[0m \u001b[0;34m=\u001b[0m \u001b[0;34m[\u001b[0m\u001b[0mgetattr_\u001b[0m\u001b[0;34m(\u001b[0m\u001b[0mds\u001b[0m\u001b[0;34m,\u001b[0m \u001b[0;34m'_file_obj'\u001b[0m\u001b[0;34m)\u001b[0m \u001b[0;32mfor\u001b[0m \u001b[0mds\u001b[0m \u001b[0;32min\u001b[0m \u001b[0mdatasets\u001b[0m\u001b[0;34m]\u001b[0m\u001b[0;34m\u001b[0m\u001b[0;34m\u001b[0m\u001b[0m\n\u001b[1;32m    768\u001b[0m     \u001b[0;32mif\u001b[0m \u001b[0mpreprocess\u001b[0m \u001b[0;32mis\u001b[0m \u001b[0;32mnot\u001b[0m \u001b[0;32mNone\u001b[0m\u001b[0;34m:\u001b[0m\u001b[0;34m\u001b[0m\u001b[0;34m\u001b[0m\u001b[0m\n",
      "\u001b[0;32m/glade/work/kdagon/miniconda/envs/analysis/lib/python3.7/site-packages/xarray/backends/api.py\u001b[0m in \u001b[0;36mopen_dataset\u001b[0;34m(filename_or_obj, group, decode_cf, mask_and_scale, decode_times, autoclose, concat_characters, decode_coords, engine, chunks, lock, cache, drop_variables, backend_kwargs, use_cftime)\u001b[0m\n\u001b[1;32m    418\u001b[0m         \u001b[0;32mif\u001b[0m \u001b[0mengine\u001b[0m \u001b[0;34m==\u001b[0m \u001b[0;34m'netcdf4'\u001b[0m\u001b[0;34m:\u001b[0m\u001b[0;34m\u001b[0m\u001b[0;34m\u001b[0m\u001b[0m\n\u001b[1;32m    419\u001b[0m             store = backends.NetCDF4DataStore.open(\n\u001b[0;32m--> 420\u001b[0;31m                 filename_or_obj, group=group, lock=lock, **backend_kwargs)\n\u001b[0m\u001b[1;32m    421\u001b[0m         \u001b[0;32melif\u001b[0m \u001b[0mengine\u001b[0m \u001b[0;34m==\u001b[0m \u001b[0;34m'scipy'\u001b[0m\u001b[0;34m:\u001b[0m\u001b[0;34m\u001b[0m\u001b[0;34m\u001b[0m\u001b[0m\n\u001b[1;32m    422\u001b[0m             \u001b[0mstore\u001b[0m \u001b[0;34m=\u001b[0m \u001b[0mbackends\u001b[0m\u001b[0;34m.\u001b[0m\u001b[0mScipyDataStore\u001b[0m\u001b[0;34m(\u001b[0m\u001b[0mfilename_or_obj\u001b[0m\u001b[0;34m,\u001b[0m \u001b[0;34m**\u001b[0m\u001b[0mbackend_kwargs\u001b[0m\u001b[0;34m)\u001b[0m\u001b[0;34m\u001b[0m\u001b[0;34m\u001b[0m\u001b[0m\n",
      "\u001b[0;32m/glade/work/kdagon/miniconda/envs/analysis/lib/python3.7/site-packages/xarray/backends/netCDF4_.py\u001b[0m in \u001b[0;36mopen\u001b[0;34m(cls, filename, mode, format, group, clobber, diskless, persist, lock, lock_maker, autoclose)\u001b[0m\n\u001b[1;32m    333\u001b[0m             netCDF4.Dataset, filename, mode=mode, kwargs=kwargs)\n\u001b[1;32m    334\u001b[0m         return cls(manager, group=group, mode=mode, lock=lock,\n\u001b[0;32m--> 335\u001b[0;31m                    autoclose=autoclose)\n\u001b[0m\u001b[1;32m    336\u001b[0m \u001b[0;34m\u001b[0m\u001b[0m\n\u001b[1;32m    337\u001b[0m     \u001b[0;32mdef\u001b[0m \u001b[0m_acquire\u001b[0m\u001b[0;34m(\u001b[0m\u001b[0mself\u001b[0m\u001b[0;34m,\u001b[0m \u001b[0mneeds_lock\u001b[0m\u001b[0;34m=\u001b[0m\u001b[0;32mTrue\u001b[0m\u001b[0;34m)\u001b[0m\u001b[0;34m:\u001b[0m\u001b[0;34m\u001b[0m\u001b[0;34m\u001b[0m\u001b[0m\n",
      "\u001b[0;32m/glade/work/kdagon/miniconda/envs/analysis/lib/python3.7/site-packages/xarray/backends/netCDF4_.py\u001b[0m in \u001b[0;36m__init__\u001b[0;34m(self, manager, group, mode, lock, autoclose)\u001b[0m\n\u001b[1;32m    291\u001b[0m         \u001b[0mself\u001b[0m\u001b[0;34m.\u001b[0m\u001b[0m_group\u001b[0m \u001b[0;34m=\u001b[0m \u001b[0mgroup\u001b[0m\u001b[0;34m\u001b[0m\u001b[0;34m\u001b[0m\u001b[0m\n\u001b[1;32m    292\u001b[0m         \u001b[0mself\u001b[0m\u001b[0;34m.\u001b[0m\u001b[0m_mode\u001b[0m \u001b[0;34m=\u001b[0m \u001b[0mmode\u001b[0m\u001b[0;34m\u001b[0m\u001b[0;34m\u001b[0m\u001b[0m\n\u001b[0;32m--> 293\u001b[0;31m         \u001b[0mself\u001b[0m\u001b[0;34m.\u001b[0m\u001b[0mformat\u001b[0m \u001b[0;34m=\u001b[0m \u001b[0mself\u001b[0m\u001b[0;34m.\u001b[0m\u001b[0mds\u001b[0m\u001b[0;34m.\u001b[0m\u001b[0mdata_model\u001b[0m\u001b[0;34m\u001b[0m\u001b[0;34m\u001b[0m\u001b[0m\n\u001b[0m\u001b[1;32m    294\u001b[0m         \u001b[0mself\u001b[0m\u001b[0;34m.\u001b[0m\u001b[0m_filename\u001b[0m \u001b[0;34m=\u001b[0m \u001b[0mself\u001b[0m\u001b[0;34m.\u001b[0m\u001b[0mds\u001b[0m\u001b[0;34m.\u001b[0m\u001b[0mfilepath\u001b[0m\u001b[0;34m(\u001b[0m\u001b[0;34m)\u001b[0m\u001b[0;34m\u001b[0m\u001b[0;34m\u001b[0m\u001b[0m\n\u001b[1;32m    295\u001b[0m         \u001b[0mself\u001b[0m\u001b[0;34m.\u001b[0m\u001b[0mis_remote\u001b[0m \u001b[0;34m=\u001b[0m \u001b[0mis_remote_uri\u001b[0m\u001b[0;34m(\u001b[0m\u001b[0mself\u001b[0m\u001b[0;34m.\u001b[0m\u001b[0m_filename\u001b[0m\u001b[0;34m)\u001b[0m\u001b[0;34m\u001b[0m\u001b[0;34m\u001b[0m\u001b[0m\n",
      "\u001b[0;32m/glade/work/kdagon/miniconda/envs/analysis/lib/python3.7/site-packages/xarray/backends/netCDF4_.py\u001b[0m in \u001b[0;36mds\u001b[0;34m(self)\u001b[0m\n\u001b[1;32m    342\u001b[0m     \u001b[0;34m@\u001b[0m\u001b[0mproperty\u001b[0m\u001b[0;34m\u001b[0m\u001b[0;34m\u001b[0m\u001b[0m\n\u001b[1;32m    343\u001b[0m     \u001b[0;32mdef\u001b[0m \u001b[0mds\u001b[0m\u001b[0;34m(\u001b[0m\u001b[0mself\u001b[0m\u001b[0;34m)\u001b[0m\u001b[0;34m:\u001b[0m\u001b[0;34m\u001b[0m\u001b[0;34m\u001b[0m\u001b[0m\n\u001b[0;32m--> 344\u001b[0;31m         \u001b[0;32mreturn\u001b[0m \u001b[0mself\u001b[0m\u001b[0;34m.\u001b[0m\u001b[0m_acquire\u001b[0m\u001b[0;34m(\u001b[0m\u001b[0;34m)\u001b[0m\u001b[0;34m\u001b[0m\u001b[0;34m\u001b[0m\u001b[0m\n\u001b[0m\u001b[1;32m    345\u001b[0m \u001b[0;34m\u001b[0m\u001b[0m\n\u001b[1;32m    346\u001b[0m     \u001b[0;32mdef\u001b[0m \u001b[0mopen_store_variable\u001b[0m\u001b[0;34m(\u001b[0m\u001b[0mself\u001b[0m\u001b[0;34m,\u001b[0m \u001b[0mname\u001b[0m\u001b[0;34m,\u001b[0m \u001b[0mvar\u001b[0m\u001b[0;34m)\u001b[0m\u001b[0;34m:\u001b[0m\u001b[0;34m\u001b[0m\u001b[0;34m\u001b[0m\u001b[0m\n",
      "\u001b[0;32m/glade/work/kdagon/miniconda/envs/analysis/lib/python3.7/site-packages/xarray/backends/netCDF4_.py\u001b[0m in \u001b[0;36m_acquire\u001b[0;34m(self, needs_lock)\u001b[0m\n\u001b[1;32m    336\u001b[0m \u001b[0;34m\u001b[0m\u001b[0m\n\u001b[1;32m    337\u001b[0m     \u001b[0;32mdef\u001b[0m \u001b[0m_acquire\u001b[0m\u001b[0;34m(\u001b[0m\u001b[0mself\u001b[0m\u001b[0;34m,\u001b[0m \u001b[0mneeds_lock\u001b[0m\u001b[0;34m=\u001b[0m\u001b[0;32mTrue\u001b[0m\u001b[0;34m)\u001b[0m\u001b[0;34m:\u001b[0m\u001b[0;34m\u001b[0m\u001b[0;34m\u001b[0m\u001b[0m\n\u001b[0;32m--> 338\u001b[0;31m         \u001b[0;32mwith\u001b[0m \u001b[0mself\u001b[0m\u001b[0;34m.\u001b[0m\u001b[0m_manager\u001b[0m\u001b[0;34m.\u001b[0m\u001b[0macquire_context\u001b[0m\u001b[0;34m(\u001b[0m\u001b[0mneeds_lock\u001b[0m\u001b[0;34m)\u001b[0m \u001b[0;32mas\u001b[0m \u001b[0mroot\u001b[0m\u001b[0;34m:\u001b[0m\u001b[0;34m\u001b[0m\u001b[0;34m\u001b[0m\u001b[0m\n\u001b[0m\u001b[1;32m    339\u001b[0m             \u001b[0mds\u001b[0m \u001b[0;34m=\u001b[0m \u001b[0m_nc4_require_group\u001b[0m\u001b[0;34m(\u001b[0m\u001b[0mroot\u001b[0m\u001b[0;34m,\u001b[0m \u001b[0mself\u001b[0m\u001b[0;34m.\u001b[0m\u001b[0m_group\u001b[0m\u001b[0;34m,\u001b[0m \u001b[0mself\u001b[0m\u001b[0;34m.\u001b[0m\u001b[0m_mode\u001b[0m\u001b[0;34m)\u001b[0m\u001b[0;34m\u001b[0m\u001b[0;34m\u001b[0m\u001b[0m\n\u001b[1;32m    340\u001b[0m         \u001b[0;32mreturn\u001b[0m \u001b[0mds\u001b[0m\u001b[0;34m\u001b[0m\u001b[0;34m\u001b[0m\u001b[0m\n",
      "\u001b[0;32m/glade/work/kdagon/miniconda/envs/analysis/lib/python3.7/contextlib.py\u001b[0m in \u001b[0;36m__enter__\u001b[0;34m(self)\u001b[0m\n\u001b[1;32m    110\u001b[0m         \u001b[0;32mdel\u001b[0m \u001b[0mself\u001b[0m\u001b[0;34m.\u001b[0m\u001b[0margs\u001b[0m\u001b[0;34m,\u001b[0m \u001b[0mself\u001b[0m\u001b[0;34m.\u001b[0m\u001b[0mkwds\u001b[0m\u001b[0;34m,\u001b[0m \u001b[0mself\u001b[0m\u001b[0;34m.\u001b[0m\u001b[0mfunc\u001b[0m\u001b[0;34m\u001b[0m\u001b[0;34m\u001b[0m\u001b[0m\n\u001b[1;32m    111\u001b[0m         \u001b[0;32mtry\u001b[0m\u001b[0;34m:\u001b[0m\u001b[0;34m\u001b[0m\u001b[0;34m\u001b[0m\u001b[0m\n\u001b[0;32m--> 112\u001b[0;31m             \u001b[0;32mreturn\u001b[0m \u001b[0mnext\u001b[0m\u001b[0;34m(\u001b[0m\u001b[0mself\u001b[0m\u001b[0;34m.\u001b[0m\u001b[0mgen\u001b[0m\u001b[0;34m)\u001b[0m\u001b[0;34m\u001b[0m\u001b[0;34m\u001b[0m\u001b[0m\n\u001b[0m\u001b[1;32m    113\u001b[0m         \u001b[0;32mexcept\u001b[0m \u001b[0mStopIteration\u001b[0m\u001b[0;34m:\u001b[0m\u001b[0;34m\u001b[0m\u001b[0;34m\u001b[0m\u001b[0m\n\u001b[1;32m    114\u001b[0m             \u001b[0;32mraise\u001b[0m \u001b[0mRuntimeError\u001b[0m\u001b[0;34m(\u001b[0m\u001b[0;34m\"generator didn't yield\"\u001b[0m\u001b[0;34m)\u001b[0m \u001b[0;32mfrom\u001b[0m \u001b[0;32mNone\u001b[0m\u001b[0;34m\u001b[0m\u001b[0;34m\u001b[0m\u001b[0m\n",
      "\u001b[0;32m/glade/work/kdagon/miniconda/envs/analysis/lib/python3.7/site-packages/xarray/backends/file_manager.py\u001b[0m in \u001b[0;36macquire_context\u001b[0;34m(self, needs_lock)\u001b[0m\n\u001b[1;32m    172\u001b[0m     \u001b[0;32mdef\u001b[0m \u001b[0macquire_context\u001b[0m\u001b[0;34m(\u001b[0m\u001b[0mself\u001b[0m\u001b[0;34m,\u001b[0m \u001b[0mneeds_lock\u001b[0m\u001b[0;34m=\u001b[0m\u001b[0;32mTrue\u001b[0m\u001b[0;34m)\u001b[0m\u001b[0;34m:\u001b[0m\u001b[0;34m\u001b[0m\u001b[0;34m\u001b[0m\u001b[0m\n\u001b[1;32m    173\u001b[0m         \u001b[0;34m\"\"\"Context manager for acquiring a file.\"\"\"\u001b[0m\u001b[0;34m\u001b[0m\u001b[0;34m\u001b[0m\u001b[0m\n\u001b[0;32m--> 174\u001b[0;31m         \u001b[0mfile\u001b[0m\u001b[0;34m,\u001b[0m \u001b[0mcached\u001b[0m \u001b[0;34m=\u001b[0m \u001b[0mself\u001b[0m\u001b[0;34m.\u001b[0m\u001b[0m_acquire_with_cache_info\u001b[0m\u001b[0;34m(\u001b[0m\u001b[0mneeds_lock\u001b[0m\u001b[0;34m)\u001b[0m\u001b[0;34m\u001b[0m\u001b[0;34m\u001b[0m\u001b[0m\n\u001b[0m\u001b[1;32m    175\u001b[0m         \u001b[0;32mtry\u001b[0m\u001b[0;34m:\u001b[0m\u001b[0;34m\u001b[0m\u001b[0;34m\u001b[0m\u001b[0m\n\u001b[1;32m    176\u001b[0m             \u001b[0;32myield\u001b[0m \u001b[0mfile\u001b[0m\u001b[0;34m\u001b[0m\u001b[0;34m\u001b[0m\u001b[0m\n",
      "\u001b[0;32m/glade/work/kdagon/miniconda/envs/analysis/lib/python3.7/site-packages/xarray/backends/file_manager.py\u001b[0m in \u001b[0;36m_acquire_with_cache_info\u001b[0;34m(self, needs_lock)\u001b[0m\n\u001b[1;32m    190\u001b[0m                     \u001b[0mkwargs\u001b[0m \u001b[0;34m=\u001b[0m \u001b[0mkwargs\u001b[0m\u001b[0;34m.\u001b[0m\u001b[0mcopy\u001b[0m\u001b[0;34m(\u001b[0m\u001b[0;34m)\u001b[0m\u001b[0;34m\u001b[0m\u001b[0;34m\u001b[0m\u001b[0m\n\u001b[1;32m    191\u001b[0m                     \u001b[0mkwargs\u001b[0m\u001b[0;34m[\u001b[0m\u001b[0;34m'mode'\u001b[0m\u001b[0;34m]\u001b[0m \u001b[0;34m=\u001b[0m \u001b[0mself\u001b[0m\u001b[0;34m.\u001b[0m\u001b[0m_mode\u001b[0m\u001b[0;34m\u001b[0m\u001b[0;34m\u001b[0m\u001b[0m\n\u001b[0;32m--> 192\u001b[0;31m                 \u001b[0mfile\u001b[0m \u001b[0;34m=\u001b[0m \u001b[0mself\u001b[0m\u001b[0;34m.\u001b[0m\u001b[0m_opener\u001b[0m\u001b[0;34m(\u001b[0m\u001b[0;34m*\u001b[0m\u001b[0mself\u001b[0m\u001b[0;34m.\u001b[0m\u001b[0m_args\u001b[0m\u001b[0;34m,\u001b[0m \u001b[0;34m**\u001b[0m\u001b[0mkwargs\u001b[0m\u001b[0;34m)\u001b[0m\u001b[0;34m\u001b[0m\u001b[0;34m\u001b[0m\u001b[0m\n\u001b[0m\u001b[1;32m    193\u001b[0m                 \u001b[0;32mif\u001b[0m \u001b[0mself\u001b[0m\u001b[0;34m.\u001b[0m\u001b[0m_mode\u001b[0m \u001b[0;34m==\u001b[0m \u001b[0;34m'w'\u001b[0m\u001b[0;34m:\u001b[0m\u001b[0;34m\u001b[0m\u001b[0;34m\u001b[0m\u001b[0m\n\u001b[1;32m    194\u001b[0m                     \u001b[0;31m# ensure file doesn't get overriden when opened again\u001b[0m\u001b[0;34m\u001b[0m\u001b[0;34m\u001b[0m\u001b[0;34m\u001b[0m\u001b[0m\n",
      "\u001b[0;32mnetCDF4/_netCDF4.pyx\u001b[0m in \u001b[0;36mnetCDF4._netCDF4.Dataset.__init__\u001b[0;34m()\u001b[0m\n",
      "\u001b[0;32mnetCDF4/_netCDF4.pyx\u001b[0m in \u001b[0;36mnetCDF4._netCDF4._ensure_nc_success\u001b[0;34m()\u001b[0m\n",
      "\u001b[0;31mFileNotFoundError\u001b[0m: [Errno 2] No such file or directory: b'/glade/scratch/kdagon/archive/hydro_ensemble_LHC_1/lnd/hist/*{001[6-9],20-}*'"
     ]
    }
   ],
   "source": [
    "da_model = xr.open_mfdataset(full_paths)"
   ]
  },
  {
   "cell_type": "code",
   "execution_count": 47,
   "metadata": {},
   "outputs": [
    {
     "name": "stdout",
     "output_type": "stream",
     "text": [
      "/glade/scratch/kdagon/archive/hydro_ensemble_LHC_1/lnd/hist/hydro_ensemble_LHC_1.clm2.h0.0016-01.nc\n",
      "/glade/scratch/kdagon/archive/hydro_ensemble_LHC_1/lnd/hist/hydro_ensemble_LHC_1.clm2.h0.0016-02.nc\n",
      "/glade/scratch/kdagon/archive/hydro_ensemble_LHC_1/lnd/hist/hydro_ensemble_LHC_1.clm2.h0.0016-03.nc\n",
      "/glade/scratch/kdagon/archive/hydro_ensemble_LHC_1/lnd/hist/hydro_ensemble_LHC_1.clm2.h0.0016-04.nc\n",
      "/glade/scratch/kdagon/archive/hydro_ensemble_LHC_1/lnd/hist/hydro_ensemble_LHC_1.clm2.h0.0016-05.nc\n",
      "/glade/scratch/kdagon/archive/hydro_ensemble_LHC_1/lnd/hist/hydro_ensemble_LHC_1.clm2.h0.0016-06.nc\n",
      "/glade/scratch/kdagon/archive/hydro_ensemble_LHC_1/lnd/hist/hydro_ensemble_LHC_1.clm2.h0.0016-07.nc\n",
      "/glade/scratch/kdagon/archive/hydro_ensemble_LHC_1/lnd/hist/hydro_ensemble_LHC_1.clm2.h0.0016-08.nc\n",
      "/glade/scratch/kdagon/archive/hydro_ensemble_LHC_1/lnd/hist/hydro_ensemble_LHC_1.clm2.h0.0016-09.nc\n",
      "/glade/scratch/kdagon/archive/hydro_ensemble_LHC_1/lnd/hist/hydro_ensemble_LHC_1.clm2.h0.0016-10.nc\n",
      "/glade/scratch/kdagon/archive/hydro_ensemble_LHC_1/lnd/hist/hydro_ensemble_LHC_1.clm2.h0.0016-11.nc\n",
      "/glade/scratch/kdagon/archive/hydro_ensemble_LHC_1/lnd/hist/hydro_ensemble_LHC_1.clm2.h0.0016-12.nc\n",
      "/glade/scratch/kdagon/archive/hydro_ensemble_LHC_1/lnd/hist/hydro_ensemble_LHC_1.clm2.h0.0017-01.nc\n",
      "/glade/scratch/kdagon/archive/hydro_ensemble_LHC_1/lnd/hist/hydro_ensemble_LHC_1.clm2.h0.0017-02.nc\n",
      "/glade/scratch/kdagon/archive/hydro_ensemble_LHC_1/lnd/hist/hydro_ensemble_LHC_1.clm2.h0.0017-03.nc\n",
      "/glade/scratch/kdagon/archive/hydro_ensemble_LHC_1/lnd/hist/hydro_ensemble_LHC_1.clm2.h0.0017-04.nc\n",
      "/glade/scratch/kdagon/archive/hydro_ensemble_LHC_1/lnd/hist/hydro_ensemble_LHC_1.clm2.h0.0017-05.nc\n",
      "/glade/scratch/kdagon/archive/hydro_ensemble_LHC_1/lnd/hist/hydro_ensemble_LHC_1.clm2.h0.0017-06.nc\n",
      "/glade/scratch/kdagon/archive/hydro_ensemble_LHC_1/lnd/hist/hydro_ensemble_LHC_1.clm2.h0.0017-07.nc\n",
      "/glade/scratch/kdagon/archive/hydro_ensemble_LHC_1/lnd/hist/hydro_ensemble_LHC_1.clm2.h0.0017-08.nc\n",
      "/glade/scratch/kdagon/archive/hydro_ensemble_LHC_1/lnd/hist/hydro_ensemble_LHC_1.clm2.h0.0017-09.nc\n",
      "/glade/scratch/kdagon/archive/hydro_ensemble_LHC_1/lnd/hist/hydro_ensemble_LHC_1.clm2.h0.0017-10.nc\n",
      "/glade/scratch/kdagon/archive/hydro_ensemble_LHC_1/lnd/hist/hydro_ensemble_LHC_1.clm2.h0.0017-11.nc\n",
      "/glade/scratch/kdagon/archive/hydro_ensemble_LHC_1/lnd/hist/hydro_ensemble_LHC_1.clm2.h0.0017-12.nc\n",
      "/glade/scratch/kdagon/archive/hydro_ensemble_LHC_1/lnd/hist/hydro_ensemble_LHC_1.clm2.h0.0018-01.nc\n",
      "/glade/scratch/kdagon/archive/hydro_ensemble_LHC_1/lnd/hist/hydro_ensemble_LHC_1.clm2.h0.0018-02.nc\n",
      "/glade/scratch/kdagon/archive/hydro_ensemble_LHC_1/lnd/hist/hydro_ensemble_LHC_1.clm2.h0.0018-03.nc\n",
      "/glade/scratch/kdagon/archive/hydro_ensemble_LHC_1/lnd/hist/hydro_ensemble_LHC_1.clm2.h0.0018-04.nc\n",
      "/glade/scratch/kdagon/archive/hydro_ensemble_LHC_1/lnd/hist/hydro_ensemble_LHC_1.clm2.h0.0018-05.nc\n",
      "/glade/scratch/kdagon/archive/hydro_ensemble_LHC_1/lnd/hist/hydro_ensemble_LHC_1.clm2.h0.0018-06.nc\n",
      "/glade/scratch/kdagon/archive/hydro_ensemble_LHC_1/lnd/hist/hydro_ensemble_LHC_1.clm2.h0.0018-07.nc\n",
      "/glade/scratch/kdagon/archive/hydro_ensemble_LHC_1/lnd/hist/hydro_ensemble_LHC_1.clm2.h0.0018-08.nc\n",
      "/glade/scratch/kdagon/archive/hydro_ensemble_LHC_1/lnd/hist/hydro_ensemble_LHC_1.clm2.h0.0018-09.nc\n",
      "/glade/scratch/kdagon/archive/hydro_ensemble_LHC_1/lnd/hist/hydro_ensemble_LHC_1.clm2.h0.0018-10.nc\n",
      "/glade/scratch/kdagon/archive/hydro_ensemble_LHC_1/lnd/hist/hydro_ensemble_LHC_1.clm2.h0.0018-11.nc\n",
      "/glade/scratch/kdagon/archive/hydro_ensemble_LHC_1/lnd/hist/hydro_ensemble_LHC_1.clm2.h0.0018-12.nc\n",
      "/glade/scratch/kdagon/archive/hydro_ensemble_LHC_1/lnd/hist/hydro_ensemble_LHC_1.clm2.h0.0019-01.nc\n",
      "/glade/scratch/kdagon/archive/hydro_ensemble_LHC_1/lnd/hist/hydro_ensemble_LHC_1.clm2.h0.0019-02.nc\n",
      "/glade/scratch/kdagon/archive/hydro_ensemble_LHC_1/lnd/hist/hydro_ensemble_LHC_1.clm2.h0.0019-03.nc\n",
      "/glade/scratch/kdagon/archive/hydro_ensemble_LHC_1/lnd/hist/hydro_ensemble_LHC_1.clm2.h0.0019-04.nc\n",
      "/glade/scratch/kdagon/archive/hydro_ensemble_LHC_1/lnd/hist/hydro_ensemble_LHC_1.clm2.h0.0019-05.nc\n",
      "/glade/scratch/kdagon/archive/hydro_ensemble_LHC_1/lnd/hist/hydro_ensemble_LHC_1.clm2.h0.0019-06.nc\n",
      "/glade/scratch/kdagon/archive/hydro_ensemble_LHC_1/lnd/hist/hydro_ensemble_LHC_1.clm2.h0.0019-07.nc\n",
      "/glade/scratch/kdagon/archive/hydro_ensemble_LHC_1/lnd/hist/hydro_ensemble_LHC_1.clm2.h0.0019-08.nc\n",
      "/glade/scratch/kdagon/archive/hydro_ensemble_LHC_1/lnd/hist/hydro_ensemble_LHC_1.clm2.h0.0019-09.nc\n",
      "/glade/scratch/kdagon/archive/hydro_ensemble_LHC_1/lnd/hist/hydro_ensemble_LHC_1.clm2.h0.0019-10.nc\n",
      "/glade/scratch/kdagon/archive/hydro_ensemble_LHC_1/lnd/hist/hydro_ensemble_LHC_1.clm2.h0.0019-11.nc\n",
      "/glade/scratch/kdagon/archive/hydro_ensemble_LHC_1/lnd/hist/hydro_ensemble_LHC_1.clm2.h0.0019-12.nc\n",
      "/glade/scratch/kdagon/archive/hydro_ensemble_LHC_1/lnd/hist/hydro_ensemble_LHC_1.clm2.h0.0020-01.nc\n",
      "/glade/scratch/kdagon/archive/hydro_ensemble_LHC_1/lnd/hist/hydro_ensemble_LHC_1.clm2.h0.0020-02.nc\n",
      "/glade/scratch/kdagon/archive/hydro_ensemble_LHC_1/lnd/hist/hydro_ensemble_LHC_1.clm2.h0.0020-03.nc\n",
      "/glade/scratch/kdagon/archive/hydro_ensemble_LHC_1/lnd/hist/hydro_ensemble_LHC_1.clm2.h0.0020-04.nc\n",
      "/glade/scratch/kdagon/archive/hydro_ensemble_LHC_1/lnd/hist/hydro_ensemble_LHC_1.clm2.h0.0020-05.nc\n",
      "/glade/scratch/kdagon/archive/hydro_ensemble_LHC_1/lnd/hist/hydro_ensemble_LHC_1.clm2.h0.0020-06.nc\n",
      "/glade/scratch/kdagon/archive/hydro_ensemble_LHC_1/lnd/hist/hydro_ensemble_LHC_1.clm2.h0.0020-07.nc\n",
      "/glade/scratch/kdagon/archive/hydro_ensemble_LHC_1/lnd/hist/hydro_ensemble_LHC_1.clm2.h0.0020-08.nc\n",
      "/glade/scratch/kdagon/archive/hydro_ensemble_LHC_1/lnd/hist/hydro_ensemble_LHC_1.clm2.h0.0020-09.nc\n",
      "/glade/scratch/kdagon/archive/hydro_ensemble_LHC_1/lnd/hist/hydro_ensemble_LHC_1.clm2.h0.0020-10.nc\n",
      "/glade/scratch/kdagon/archive/hydro_ensemble_LHC_1/lnd/hist/hydro_ensemble_LHC_1.clm2.h0.0020-11.nc\n",
      "/glade/scratch/kdagon/archive/hydro_ensemble_LHC_1/lnd/hist/hydro_ensemble_LHC_1.clm2.h0.0020-12.nc\n"
     ]
    }
   ],
   "source": [
    "!ls /glade/scratch/kdagon/archive/hydro_ensemble_LHC_1/lnd/hist/*{001[6-9],20-}*"
   ]
  },
  {
   "cell_type": "code",
   "execution_count": null,
   "metadata": {},
   "outputs": [],
   "source": []
  }
 ],
 "metadata": {
  "kernelspec": {
   "display_name": "Python (conda-analysis)",
   "language": "python",
   "name": "analysis"
  },
  "language_info": {
   "codemirror_mode": {
    "name": "ipython",
    "version": 3
   },
   "file_extension": ".py",
   "mimetype": "text/x-python",
   "name": "python",
   "nbconvert_exporter": "python",
   "pygments_lexer": "ipython3",
   "version": "3.7.3"
  }
 },
 "nbformat": 4,
 "nbformat_minor": 4
}
